{
 "cells": [
  {
   "cell_type": "markdown",
   "id": "62b8be87",
   "metadata": {
    "colab_type": "text",
    "id": "view-in-github"
   },
   "source": [
    "<a href=\"https://colab.research.google.com/github/034adarsh/Stock-Price-Prediction-Using-LSTM/blob/main/LSTM_Improved_model(diff_dataset).ipynb\" target=\"_parent\"><img src=\"https://colab.research.google.com/assets/colab-badge.svg\" alt=\"Open In Colab\"/></a>"
   ]
  },
  {
   "cell_type": "markdown",
   "id": "yrU0iWdalVGx",
   "metadata": {
    "id": "yrU0iWdalVGx"
   },
   "source": [
    "# Import all the required libraries\n",
    "\n",
    "---\n",
    "\n"
   ]
  },
  {
   "cell_type": "code",
   "execution_count": 76,
   "id": "4189cf86",
   "metadata": {
    "id": "4189cf86"
   },
   "outputs": [],
   "source": [
    "import pandas as pd\n",
    "import datetime as dt\n",
    "from datetime import date\n",
    "import matplotlib.pyplot as plt\n",
    "import numpy as np\n",
    "import yfinance as yf\n",
    "import tensorflow as tf\n",
    "import plotly.graph_objects as go\n",
    "import pandas_datareader as data\n",
    "import streamlit as st"
   ]
  },
  {
   "cell_type": "markdown",
   "id": "Nij98iZElfyQ",
   "metadata": {
    "id": "Nij98iZElfyQ"
   },
   "source": [
    "# Define start day to fetch the dataset from the yahoo finance library\n",
    "\n",
    "\n",
    "\n"
   ]
  },
  {
   "cell_type": "code",
   "execution_count": 77,
   "id": "d20a4c49",
   "metadata": {
    "id": "d20a4c49"
   },
   "outputs": [
    {
     "name": "stderr",
     "output_type": "stream",
     "text": [
      "[*********************100%***********************]  2 of 2 completed\n"
     ]
    },
    {
     "data": {
      "text/html": [
       "<div>\n",
       "<style scoped>\n",
       "    .dataframe tbody tr th:only-of-type {\n",
       "        vertical-align: middle;\n",
       "    }\n",
       "\n",
       "    .dataframe tbody tr th {\n",
       "        vertical-align: top;\n",
       "    }\n",
       "\n",
       "    .dataframe thead tr th {\n",
       "        text-align: left;\n",
       "    }\n",
       "\n",
       "    .dataframe thead tr:last-of-type th {\n",
       "        text-align: right;\n",
       "    }\n",
       "</style>\n",
       "<table border=\"1\" class=\"dataframe\">\n",
       "  <thead>\n",
       "    <tr>\n",
       "      <th>Ticker</th>\n",
       "      <th colspan=\"5\" halign=\"left\">ONGC.NS</th>\n",
       "      <th colspan=\"5\" halign=\"left\">POWERGRID.NS</th>\n",
       "    </tr>\n",
       "    <tr>\n",
       "      <th>Price</th>\n",
       "      <th>Open</th>\n",
       "      <th>High</th>\n",
       "      <th>Low</th>\n",
       "      <th>Close</th>\n",
       "      <th>Volume</th>\n",
       "      <th>Open</th>\n",
       "      <th>High</th>\n",
       "      <th>Low</th>\n",
       "      <th>Close</th>\n",
       "      <th>Volume</th>\n",
       "    </tr>\n",
       "    <tr>\n",
       "      <th>Date</th>\n",
       "      <th></th>\n",
       "      <th></th>\n",
       "      <th></th>\n",
       "      <th></th>\n",
       "      <th></th>\n",
       "      <th></th>\n",
       "      <th></th>\n",
       "      <th></th>\n",
       "      <th></th>\n",
       "      <th></th>\n",
       "    </tr>\n",
       "  </thead>\n",
       "  <tbody>\n",
       "    <tr>\n",
       "      <th>2010-01-04</th>\n",
       "      <td>100.357018</td>\n",
       "      <td>101.721254</td>\n",
       "      <td>100.271750</td>\n",
       "      <td>101.248039</td>\n",
       "      <td>1905762</td>\n",
       "      <td>36.555877</td>\n",
       "      <td>37.534460</td>\n",
       "      <td>36.522706</td>\n",
       "      <td>37.285667</td>\n",
       "      <td>4353415</td>\n",
       "    </tr>\n",
       "    <tr>\n",
       "      <th>2010-01-05</th>\n",
       "      <td>101.644530</td>\n",
       "      <td>103.597100</td>\n",
       "      <td>101.392997</td>\n",
       "      <td>103.021561</td>\n",
       "      <td>4657392</td>\n",
       "      <td>37.484691</td>\n",
       "      <td>37.949102</td>\n",
       "      <td>37.235899</td>\n",
       "      <td>37.401760</td>\n",
       "      <td>4374738</td>\n",
       "    </tr>\n",
       "    <tr>\n",
       "      <th>2010-01-06</th>\n",
       "      <td>103.349834</td>\n",
       "      <td>104.620287</td>\n",
       "      <td>102.932036</td>\n",
       "      <td>104.321861</td>\n",
       "      <td>4203690</td>\n",
       "      <td>37.683731</td>\n",
       "      <td>37.949108</td>\n",
       "      <td>37.484697</td>\n",
       "      <td>37.667145</td>\n",
       "      <td>5549959</td>\n",
       "    </tr>\n",
       "    <tr>\n",
       "      <th>2010-01-07</th>\n",
       "      <td>104.108695</td>\n",
       "      <td>105.293879</td>\n",
       "      <td>103.170781</td>\n",
       "      <td>104.432701</td>\n",
       "      <td>6394536</td>\n",
       "      <td>37.783252</td>\n",
       "      <td>38.231079</td>\n",
       "      <td>37.385185</td>\n",
       "      <td>37.998871</td>\n",
       "      <td>4535147</td>\n",
       "    </tr>\n",
       "    <tr>\n",
       "      <th>2010-01-08</th>\n",
       "      <td>104.449743</td>\n",
       "      <td>105.609347</td>\n",
       "      <td>103.170767</td>\n",
       "      <td>103.656776</td>\n",
       "      <td>5678652</td>\n",
       "      <td>38.181316</td>\n",
       "      <td>38.413519</td>\n",
       "      <td>37.833004</td>\n",
       "      <td>38.098385</td>\n",
       "      <td>3809958</td>\n",
       "    </tr>\n",
       "  </tbody>\n",
       "</table>\n",
       "</div>"
      ],
      "text/plain": [
       "Ticker         ONGC.NS                                               \\\n",
       "Price             Open        High         Low       Close   Volume   \n",
       "Date                                                                  \n",
       "2010-01-04  100.357018  101.721254  100.271750  101.248039  1905762   \n",
       "2010-01-05  101.644530  103.597100  101.392997  103.021561  4657392   \n",
       "2010-01-06  103.349834  104.620287  102.932036  104.321861  4203690   \n",
       "2010-01-07  104.108695  105.293879  103.170781  104.432701  6394536   \n",
       "2010-01-08  104.449743  105.609347  103.170767  103.656776  5678652   \n",
       "\n",
       "Ticker     POWERGRID.NS                                            \n",
       "Price              Open       High        Low      Close   Volume  \n",
       "Date                                                               \n",
       "2010-01-04    36.555877  37.534460  36.522706  37.285667  4353415  \n",
       "2010-01-05    37.484691  37.949102  37.235899  37.401760  4374738  \n",
       "2010-01-06    37.683731  37.949108  37.484697  37.667145  5549959  \n",
       "2010-01-07    37.783252  38.231079  37.385185  37.998871  4535147  \n",
       "2010-01-08    38.181316  38.413519  37.833004  38.098385  3809958  "
      ]
     },
     "execution_count": 77,
     "metadata": {},
     "output_type": "execute_result"
    }
   ],
   "source": [
    "import yfinance as yf\n",
    "\n",
    "START = \"2010-01-01\"\n",
    "END = \"2025-05-12\"\n",
    "\n",
    "# Download multiple tickers\n",
    "df = yf.download(['POWERGRID.NS', 'ONGC.NS'], start=START, end=END, group_by='ticker')\n",
    "\n",
    "df.head()\n"
   ]
  },
  {
   "cell_type": "code",
   "execution_count": 78,
   "id": "c5f71e4e",
   "metadata": {
    "colab": {
     "base_uri": "https://localhost:8080/",
     "height": 224
    },
    "id": "c5f71e4e",
    "outputId": "047bd0e5-7e20-4d32-8d6f-0a0c1c5a2983"
   },
   "outputs": [
    {
     "data": {
      "text/html": [
       "<div>\n",
       "<style scoped>\n",
       "    .dataframe tbody tr th:only-of-type {\n",
       "        vertical-align: middle;\n",
       "    }\n",
       "\n",
       "    .dataframe tbody tr th {\n",
       "        vertical-align: top;\n",
       "    }\n",
       "\n",
       "    .dataframe thead tr th {\n",
       "        text-align: left;\n",
       "    }\n",
       "\n",
       "    .dataframe thead tr:last-of-type th {\n",
       "        text-align: right;\n",
       "    }\n",
       "</style>\n",
       "<table border=\"1\" class=\"dataframe\">\n",
       "  <thead>\n",
       "    <tr>\n",
       "      <th>Ticker</th>\n",
       "      <th colspan=\"5\" halign=\"left\">ONGC.NS</th>\n",
       "      <th colspan=\"5\" halign=\"left\">POWERGRID.NS</th>\n",
       "    </tr>\n",
       "    <tr>\n",
       "      <th>Price</th>\n",
       "      <th>Open</th>\n",
       "      <th>High</th>\n",
       "      <th>Low</th>\n",
       "      <th>Close</th>\n",
       "      <th>Volume</th>\n",
       "      <th>Open</th>\n",
       "      <th>High</th>\n",
       "      <th>Low</th>\n",
       "      <th>Close</th>\n",
       "      <th>Volume</th>\n",
       "    </tr>\n",
       "    <tr>\n",
       "      <th>Date</th>\n",
       "      <th></th>\n",
       "      <th></th>\n",
       "      <th></th>\n",
       "      <th></th>\n",
       "      <th></th>\n",
       "      <th></th>\n",
       "      <th></th>\n",
       "      <th></th>\n",
       "      <th></th>\n",
       "      <th></th>\n",
       "    </tr>\n",
       "  </thead>\n",
       "  <tbody>\n",
       "    <tr>\n",
       "      <th>2010-01-04</th>\n",
       "      <td>100.357018</td>\n",
       "      <td>101.721254</td>\n",
       "      <td>100.271750</td>\n",
       "      <td>101.248039</td>\n",
       "      <td>1905762</td>\n",
       "      <td>36.555877</td>\n",
       "      <td>37.534460</td>\n",
       "      <td>36.522706</td>\n",
       "      <td>37.285667</td>\n",
       "      <td>4353415</td>\n",
       "    </tr>\n",
       "    <tr>\n",
       "      <th>2010-01-05</th>\n",
       "      <td>101.644530</td>\n",
       "      <td>103.597100</td>\n",
       "      <td>101.392997</td>\n",
       "      <td>103.021561</td>\n",
       "      <td>4657392</td>\n",
       "      <td>37.484691</td>\n",
       "      <td>37.949102</td>\n",
       "      <td>37.235899</td>\n",
       "      <td>37.401760</td>\n",
       "      <td>4374738</td>\n",
       "    </tr>\n",
       "    <tr>\n",
       "      <th>2010-01-06</th>\n",
       "      <td>103.349834</td>\n",
       "      <td>104.620287</td>\n",
       "      <td>102.932036</td>\n",
       "      <td>104.321861</td>\n",
       "      <td>4203690</td>\n",
       "      <td>37.683731</td>\n",
       "      <td>37.949108</td>\n",
       "      <td>37.484697</td>\n",
       "      <td>37.667145</td>\n",
       "      <td>5549959</td>\n",
       "    </tr>\n",
       "    <tr>\n",
       "      <th>2010-01-07</th>\n",
       "      <td>104.108695</td>\n",
       "      <td>105.293879</td>\n",
       "      <td>103.170781</td>\n",
       "      <td>104.432701</td>\n",
       "      <td>6394536</td>\n",
       "      <td>37.783252</td>\n",
       "      <td>38.231079</td>\n",
       "      <td>37.385185</td>\n",
       "      <td>37.998871</td>\n",
       "      <td>4535147</td>\n",
       "    </tr>\n",
       "    <tr>\n",
       "      <th>2010-01-08</th>\n",
       "      <td>104.449743</td>\n",
       "      <td>105.609347</td>\n",
       "      <td>103.170767</td>\n",
       "      <td>103.656776</td>\n",
       "      <td>5678652</td>\n",
       "      <td>38.181316</td>\n",
       "      <td>38.413519</td>\n",
       "      <td>37.833004</td>\n",
       "      <td>38.098385</td>\n",
       "      <td>3809958</td>\n",
       "    </tr>\n",
       "  </tbody>\n",
       "</table>\n",
       "</div>"
      ],
      "text/plain": [
       "Ticker         ONGC.NS                                               \\\n",
       "Price             Open        High         Low       Close   Volume   \n",
       "Date                                                                  \n",
       "2010-01-04  100.357018  101.721254  100.271750  101.248039  1905762   \n",
       "2010-01-05  101.644530  103.597100  101.392997  103.021561  4657392   \n",
       "2010-01-06  103.349834  104.620287  102.932036  104.321861  4203690   \n",
       "2010-01-07  104.108695  105.293879  103.170781  104.432701  6394536   \n",
       "2010-01-08  104.449743  105.609347  103.170767  103.656776  5678652   \n",
       "\n",
       "Ticker     POWERGRID.NS                                            \n",
       "Price              Open       High        Low      Close   Volume  \n",
       "Date                                                               \n",
       "2010-01-04    36.555877  37.534460  36.522706  37.285667  4353415  \n",
       "2010-01-05    37.484691  37.949102  37.235899  37.401760  4374738  \n",
       "2010-01-06    37.683731  37.949108  37.484697  37.667145  5549959  \n",
       "2010-01-07    37.783252  38.231079  37.385185  37.998871  4535147  \n",
       "2010-01-08    38.181316  38.413519  37.833004  38.098385  3809958  "
      ]
     },
     "execution_count": 78,
     "metadata": {},
     "output_type": "execute_result"
    }
   ],
   "source": [
    "df.head()"
   ]
  },
  {
   "cell_type": "code",
   "execution_count": 79,
   "id": "2b14849c-284e-4add-880c-c8ea2cd4d433",
   "metadata": {},
   "outputs": [
    {
     "data": {
      "text/html": [
       "<div>\n",
       "<style scoped>\n",
       "    .dataframe tbody tr th:only-of-type {\n",
       "        vertical-align: middle;\n",
       "    }\n",
       "\n",
       "    .dataframe tbody tr th {\n",
       "        vertical-align: top;\n",
       "    }\n",
       "\n",
       "    .dataframe thead tr th {\n",
       "        text-align: left;\n",
       "    }\n",
       "\n",
       "    .dataframe thead tr:last-of-type th {\n",
       "        text-align: right;\n",
       "    }\n",
       "</style>\n",
       "<table border=\"1\" class=\"dataframe\">\n",
       "  <thead>\n",
       "    <tr>\n",
       "      <th>Ticker</th>\n",
       "      <th colspan=\"5\" halign=\"left\">ONGC.NS</th>\n",
       "      <th colspan=\"5\" halign=\"left\">POWERGRID.NS</th>\n",
       "    </tr>\n",
       "    <tr>\n",
       "      <th>Price</th>\n",
       "      <th>Open</th>\n",
       "      <th>High</th>\n",
       "      <th>Low</th>\n",
       "      <th>Close</th>\n",
       "      <th>Volume</th>\n",
       "      <th>Open</th>\n",
       "      <th>High</th>\n",
       "      <th>Low</th>\n",
       "      <th>Close</th>\n",
       "      <th>Volume</th>\n",
       "    </tr>\n",
       "    <tr>\n",
       "      <th>Date</th>\n",
       "      <th></th>\n",
       "      <th></th>\n",
       "      <th></th>\n",
       "      <th></th>\n",
       "      <th></th>\n",
       "      <th></th>\n",
       "      <th></th>\n",
       "      <th></th>\n",
       "      <th></th>\n",
       "      <th></th>\n",
       "    </tr>\n",
       "  </thead>\n",
       "  <tbody>\n",
       "    <tr>\n",
       "      <th>2025-05-05</th>\n",
       "      <td>240.000000</td>\n",
       "      <td>241.149994</td>\n",
       "      <td>234.500000</td>\n",
       "      <td>239.199997</td>\n",
       "      <td>20086323</td>\n",
       "      <td>304.799988</td>\n",
       "      <td>310.700012</td>\n",
       "      <td>304.649994</td>\n",
       "      <td>308.200012</td>\n",
       "      <td>4342960</td>\n",
       "    </tr>\n",
       "    <tr>\n",
       "      <th>2025-05-06</th>\n",
       "      <td>241.130005</td>\n",
       "      <td>242.990005</td>\n",
       "      <td>236.000000</td>\n",
       "      <td>237.000000</td>\n",
       "      <td>11350559</td>\n",
       "      <td>307.600006</td>\n",
       "      <td>310.450012</td>\n",
       "      <td>305.549988</td>\n",
       "      <td>307.600006</td>\n",
       "      <td>9124804</td>\n",
       "    </tr>\n",
       "    <tr>\n",
       "      <th>2025-05-07</th>\n",
       "      <td>232.300003</td>\n",
       "      <td>240.089996</td>\n",
       "      <td>232.070007</td>\n",
       "      <td>238.669998</td>\n",
       "      <td>16689539</td>\n",
       "      <td>308.000000</td>\n",
       "      <td>313.149994</td>\n",
       "      <td>307.000000</td>\n",
       "      <td>311.100006</td>\n",
       "      <td>14679327</td>\n",
       "    </tr>\n",
       "    <tr>\n",
       "      <th>2025-05-08</th>\n",
       "      <td>237.660004</td>\n",
       "      <td>239.339996</td>\n",
       "      <td>231.399994</td>\n",
       "      <td>233.220001</td>\n",
       "      <td>15026122</td>\n",
       "      <td>313.399994</td>\n",
       "      <td>317.399994</td>\n",
       "      <td>304.000000</td>\n",
       "      <td>308.250000</td>\n",
       "      <td>19253478</td>\n",
       "    </tr>\n",
       "    <tr>\n",
       "      <th>2025-05-09</th>\n",
       "      <td>229.100006</td>\n",
       "      <td>235.300003</td>\n",
       "      <td>228.449997</td>\n",
       "      <td>234.960007</td>\n",
       "      <td>11184507</td>\n",
       "      <td>300.000000</td>\n",
       "      <td>303.049988</td>\n",
       "      <td>296.399994</td>\n",
       "      <td>299.299988</td>\n",
       "      <td>11981497</td>\n",
       "    </tr>\n",
       "  </tbody>\n",
       "</table>\n",
       "</div>"
      ],
      "text/plain": [
       "Ticker         ONGC.NS                                                \\\n",
       "Price             Open        High         Low       Close    Volume   \n",
       "Date                                                                   \n",
       "2025-05-05  240.000000  241.149994  234.500000  239.199997  20086323   \n",
       "2025-05-06  241.130005  242.990005  236.000000  237.000000  11350559   \n",
       "2025-05-07  232.300003  240.089996  232.070007  238.669998  16689539   \n",
       "2025-05-08  237.660004  239.339996  231.399994  233.220001  15026122   \n",
       "2025-05-09  229.100006  235.300003  228.449997  234.960007  11184507   \n",
       "\n",
       "Ticker     POWERGRID.NS                                                \n",
       "Price              Open        High         Low       Close    Volume  \n",
       "Date                                                                   \n",
       "2025-05-05   304.799988  310.700012  304.649994  308.200012   4342960  \n",
       "2025-05-06   307.600006  310.450012  305.549988  307.600006   9124804  \n",
       "2025-05-07   308.000000  313.149994  307.000000  311.100006  14679327  \n",
       "2025-05-08   313.399994  317.399994  304.000000  308.250000  19253478  \n",
       "2025-05-09   300.000000  303.049988  296.399994  299.299988  11981497  "
      ]
     },
     "execution_count": 79,
     "metadata": {},
     "output_type": "execute_result"
    }
   ],
   "source": [
    "df.tail()"
   ]
  },
  {
   "cell_type": "code",
   "execution_count": 80,
   "id": "ea91dc40-ad45-402c-b218-f50a4011b6b1",
   "metadata": {},
   "outputs": [
    {
     "data": {
      "text/html": [
       "<div>\n",
       "<style scoped>\n",
       "    .dataframe tbody tr th:only-of-type {\n",
       "        vertical-align: middle;\n",
       "    }\n",
       "\n",
       "    .dataframe tbody tr th {\n",
       "        vertical-align: top;\n",
       "    }\n",
       "\n",
       "    .dataframe thead tr th {\n",
       "        text-align: left;\n",
       "    }\n",
       "</style>\n",
       "<table border=\"1\" class=\"dataframe\">\n",
       "  <thead>\n",
       "    <tr>\n",
       "      <th>Ticker</th>\n",
       "      <th>Date</th>\n",
       "      <th colspan=\"5\" halign=\"left\">ONGC.NS</th>\n",
       "      <th colspan=\"5\" halign=\"left\">POWERGRID.NS</th>\n",
       "    </tr>\n",
       "    <tr>\n",
       "      <th>Price</th>\n",
       "      <th></th>\n",
       "      <th>Open</th>\n",
       "      <th>High</th>\n",
       "      <th>Low</th>\n",
       "      <th>Close</th>\n",
       "      <th>Volume</th>\n",
       "      <th>Open</th>\n",
       "      <th>High</th>\n",
       "      <th>Low</th>\n",
       "      <th>Close</th>\n",
       "      <th>Volume</th>\n",
       "    </tr>\n",
       "  </thead>\n",
       "  <tbody>\n",
       "    <tr>\n",
       "      <th>0</th>\n",
       "      <td>2010-01-04</td>\n",
       "      <td>100.357018</td>\n",
       "      <td>101.721254</td>\n",
       "      <td>100.271750</td>\n",
       "      <td>101.248039</td>\n",
       "      <td>1905762</td>\n",
       "      <td>36.555877</td>\n",
       "      <td>37.534460</td>\n",
       "      <td>36.522706</td>\n",
       "      <td>37.285667</td>\n",
       "      <td>4353415</td>\n",
       "    </tr>\n",
       "    <tr>\n",
       "      <th>1</th>\n",
       "      <td>2010-01-05</td>\n",
       "      <td>101.644530</td>\n",
       "      <td>103.597100</td>\n",
       "      <td>101.392997</td>\n",
       "      <td>103.021561</td>\n",
       "      <td>4657392</td>\n",
       "      <td>37.484691</td>\n",
       "      <td>37.949102</td>\n",
       "      <td>37.235899</td>\n",
       "      <td>37.401760</td>\n",
       "      <td>4374738</td>\n",
       "    </tr>\n",
       "    <tr>\n",
       "      <th>2</th>\n",
       "      <td>2010-01-06</td>\n",
       "      <td>103.349834</td>\n",
       "      <td>104.620287</td>\n",
       "      <td>102.932036</td>\n",
       "      <td>104.321861</td>\n",
       "      <td>4203690</td>\n",
       "      <td>37.683731</td>\n",
       "      <td>37.949108</td>\n",
       "      <td>37.484697</td>\n",
       "      <td>37.667145</td>\n",
       "      <td>5549959</td>\n",
       "    </tr>\n",
       "    <tr>\n",
       "      <th>3</th>\n",
       "      <td>2010-01-07</td>\n",
       "      <td>104.108695</td>\n",
       "      <td>105.293879</td>\n",
       "      <td>103.170781</td>\n",
       "      <td>104.432701</td>\n",
       "      <td>6394536</td>\n",
       "      <td>37.783252</td>\n",
       "      <td>38.231079</td>\n",
       "      <td>37.385185</td>\n",
       "      <td>37.998871</td>\n",
       "      <td>4535147</td>\n",
       "    </tr>\n",
       "    <tr>\n",
       "      <th>4</th>\n",
       "      <td>2010-01-08</td>\n",
       "      <td>104.449743</td>\n",
       "      <td>105.609347</td>\n",
       "      <td>103.170767</td>\n",
       "      <td>103.656776</td>\n",
       "      <td>5678652</td>\n",
       "      <td>38.181316</td>\n",
       "      <td>38.413519</td>\n",
       "      <td>37.833004</td>\n",
       "      <td>38.098385</td>\n",
       "      <td>3809958</td>\n",
       "    </tr>\n",
       "  </tbody>\n",
       "</table>\n",
       "</div>"
      ],
      "text/plain": [
       "Ticker       Date     ONGC.NS                                               \\\n",
       "Price                    Open        High         Low       Close   Volume   \n",
       "0      2010-01-04  100.357018  101.721254  100.271750  101.248039  1905762   \n",
       "1      2010-01-05  101.644530  103.597100  101.392997  103.021561  4657392   \n",
       "2      2010-01-06  103.349834  104.620287  102.932036  104.321861  4203690   \n",
       "3      2010-01-07  104.108695  105.293879  103.170781  104.432701  6394536   \n",
       "4      2010-01-08  104.449743  105.609347  103.170767  103.656776  5678652   \n",
       "\n",
       "Ticker POWERGRID.NS                                            \n",
       "Price          Open       High        Low      Close   Volume  \n",
       "0         36.555877  37.534460  36.522706  37.285667  4353415  \n",
       "1         37.484691  37.949102  37.235899  37.401760  4374738  \n",
       "2         37.683731  37.949108  37.484697  37.667145  5549959  \n",
       "3         37.783252  38.231079  37.385185  37.998871  4535147  \n",
       "4         38.181316  38.413519  37.833004  38.098385  3809958  "
      ]
     },
     "execution_count": 80,
     "metadata": {},
     "output_type": "execute_result"
    }
   ],
   "source": [
    "df=df.reset_index()\n",
    "df.head()"
   ]
  },
  {
   "cell_type": "code",
   "execution_count": 81,
   "id": "eeb647b5-93c3-4b46-a2ff-21b35744b147",
   "metadata": {},
   "outputs": [
    {
     "data": {
      "text/plain": [
       "(3787, 11)"
      ]
     },
     "execution_count": 81,
     "metadata": {},
     "output_type": "execute_result"
    }
   ],
   "source": [
    "df.shape"
   ]
  },
  {
   "cell_type": "code",
   "execution_count": 82,
   "id": "4506cf99-bc07-4d87-98e1-9e95ef2e4f85",
   "metadata": {},
   "outputs": [
    {
     "name": "stdout",
     "output_type": "stream",
     "text": [
      "<class 'pandas.core.frame.DataFrame'>\n",
      "RangeIndex: 3787 entries, 0 to 3786\n",
      "Data columns (total 11 columns):\n",
      " #   Column                  Non-Null Count  Dtype         \n",
      "---  ------                  --------------  -----         \n",
      " 0   (Date, )                3787 non-null   datetime64[ns]\n",
      " 1   (ONGC.NS, Open)         3787 non-null   float64       \n",
      " 2   (ONGC.NS, High)         3787 non-null   float64       \n",
      " 3   (ONGC.NS, Low)          3787 non-null   float64       \n",
      " 4   (ONGC.NS, Close)        3787 non-null   float64       \n",
      " 5   (ONGC.NS, Volume)       3787 non-null   int64         \n",
      " 6   (POWERGRID.NS, Open)    3787 non-null   float64       \n",
      " 7   (POWERGRID.NS, High)    3787 non-null   float64       \n",
      " 8   (POWERGRID.NS, Low)     3787 non-null   float64       \n",
      " 9   (POWERGRID.NS, Close)   3787 non-null   float64       \n",
      " 10  (POWERGRID.NS, Volume)  3787 non-null   int64         \n",
      "dtypes: datetime64[ns](1), float64(8), int64(2)\n",
      "memory usage: 325.6 KB\n"
     ]
    }
   ],
   "source": [
    "df.info()"
   ]
  },
  {
   "cell_type": "code",
   "execution_count": 83,
   "id": "c7ec39e4",
   "metadata": {
    "colab": {
     "base_uri": "https://localhost:8080/",
     "height": 206
    },
    "id": "c7ec39e4",
    "outputId": "96670f67-4c6a-40fc-b065-a7820a2f9f46"
   },
   "outputs": [
    {
     "data": {
      "text/plain": [
       "MultiIndex([(        'Date',       ''),\n",
       "            (     'ONGC.NS',   'Open'),\n",
       "            (     'ONGC.NS',   'High'),\n",
       "            (     'ONGC.NS',    'Low'),\n",
       "            (     'ONGC.NS',  'Close'),\n",
       "            (     'ONGC.NS', 'Volume'),\n",
       "            ('POWERGRID.NS',   'Open'),\n",
       "            ('POWERGRID.NS',   'High'),\n",
       "            ('POWERGRID.NS',    'Low'),\n",
       "            ('POWERGRID.NS',  'Close'),\n",
       "            ('POWERGRID.NS', 'Volume')],\n",
       "           names=['Ticker', 'Price'])"
      ]
     },
     "execution_count": 83,
     "metadata": {},
     "output_type": "execute_result"
    }
   ],
   "source": [
    "df.columns"
   ]
  },
  {
   "cell_type": "code",
   "execution_count": 84,
   "id": "0de6c4df-2757-44c0-8369-f1efe26ebb71",
   "metadata": {},
   "outputs": [
    {
     "data": {
      "text/plain": [
       "Ticker        Price \n",
       "Date                    0\n",
       "ONGC.NS       Open      0\n",
       "              High      0\n",
       "              Low       0\n",
       "              Close     0\n",
       "              Volume    0\n",
       "POWERGRID.NS  Open      0\n",
       "              High      0\n",
       "              Low       0\n",
       "              Close     0\n",
       "              Volume    0\n",
       "dtype: int64"
      ]
     },
     "execution_count": 84,
     "metadata": {},
     "output_type": "execute_result"
    }
   ],
   "source": [
    "df.isnull().sum()"
   ]
  },
  {
   "cell_type": "code",
   "execution_count": 85,
   "id": "ae814e22-9eb7-49d7-b649-f3325b03ec88",
   "metadata": {},
   "outputs": [
    {
     "name": "stdout",
     "output_type": "stream",
     "text": [
      "MultiIndex([(        'Date',       ''),\n",
      "            (     'ONGC.NS',   'Open'),\n",
      "            (     'ONGC.NS',   'High'),\n",
      "            (     'ONGC.NS',    'Low'),\n",
      "            (     'ONGC.NS',  'Close'),\n",
      "            (     'ONGC.NS', 'Volume'),\n",
      "            ('POWERGRID.NS',   'Open'),\n",
      "            ('POWERGRID.NS',   'High'),\n",
      "            ('POWERGRID.NS',    'Low'),\n",
      "            ('POWERGRID.NS',  'Close'),\n",
      "            ('POWERGRID.NS', 'Volume')],\n",
      "           names=['Ticker', 'Price'])\n",
      "RangeIndex(start=0, stop=3787, step=1)\n"
     ]
    }
   ],
   "source": [
    "print(df.columns)\n",
    "print(df.index)\n"
   ]
  },
  {
   "cell_type": "code",
   "execution_count": 86,
   "id": "a05dff9c-cfa7-4e70-9e4b-ac7176210ad0",
   "metadata": {},
   "outputs": [
    {
     "data": {
      "text/html": [
       "<div>\n",
       "<style scoped>\n",
       "    .dataframe tbody tr th:only-of-type {\n",
       "        vertical-align: middle;\n",
       "    }\n",
       "\n",
       "    .dataframe tbody tr th {\n",
       "        vertical-align: top;\n",
       "    }\n",
       "\n",
       "    .dataframe thead tr th {\n",
       "        text-align: left;\n",
       "    }\n",
       "</style>\n",
       "<table border=\"1\" class=\"dataframe\">\n",
       "  <thead>\n",
       "    <tr>\n",
       "      <th>Ticker</th>\n",
       "      <th>Date</th>\n",
       "      <th colspan=\"5\" halign=\"left\">ONGC.NS</th>\n",
       "      <th colspan=\"5\" halign=\"left\">POWERGRID.NS</th>\n",
       "    </tr>\n",
       "    <tr>\n",
       "      <th>Price</th>\n",
       "      <th></th>\n",
       "      <th>Open</th>\n",
       "      <th>High</th>\n",
       "      <th>Low</th>\n",
       "      <th>Close</th>\n",
       "      <th>Volume</th>\n",
       "      <th>Open</th>\n",
       "      <th>High</th>\n",
       "      <th>Low</th>\n",
       "      <th>Close</th>\n",
       "      <th>Volume</th>\n",
       "    </tr>\n",
       "  </thead>\n",
       "  <tbody>\n",
       "    <tr>\n",
       "      <th>count</th>\n",
       "      <td>3787</td>\n",
       "      <td>3787.000000</td>\n",
       "      <td>3787.000000</td>\n",
       "      <td>3787.000000</td>\n",
       "      <td>3787.000000</td>\n",
       "      <td>3.787000e+03</td>\n",
       "      <td>3787.000000</td>\n",
       "      <td>3787.000000</td>\n",
       "      <td>3787.000000</td>\n",
       "      <td>3787.000000</td>\n",
       "      <td>3.787000e+03</td>\n",
       "    </tr>\n",
       "    <tr>\n",
       "      <th>mean</th>\n",
       "      <td>2017-09-03 11:01:37.913916160</td>\n",
       "      <td>123.049136</td>\n",
       "      <td>124.634228</td>\n",
       "      <td>121.208347</td>\n",
       "      <td>122.813581</td>\n",
       "      <td>1.167758e+07</td>\n",
       "      <td>93.395492</td>\n",
       "      <td>94.530620</td>\n",
       "      <td>92.236811</td>\n",
       "      <td>93.375743</td>\n",
       "      <td>1.173555e+07</td>\n",
       "    </tr>\n",
       "    <tr>\n",
       "      <th>min</th>\n",
       "      <td>2010-01-04 00:00:00</td>\n",
       "      <td>41.942175</td>\n",
       "      <td>44.484125</td>\n",
       "      <td>35.304860</td>\n",
       "      <td>42.365833</td>\n",
       "      <td>0.000000e+00</td>\n",
       "      <td>31.308205</td>\n",
       "      <td>31.980776</td>\n",
       "      <td>30.648630</td>\n",
       "      <td>31.560417</td>\n",
       "      <td>0.000000e+00</td>\n",
       "    </tr>\n",
       "    <tr>\n",
       "      <th>25%</th>\n",
       "      <td>2013-10-29 12:00:00</td>\n",
       "      <td>95.988220</td>\n",
       "      <td>97.379965</td>\n",
       "      <td>94.533259</td>\n",
       "      <td>95.859127</td>\n",
       "      <td>4.844624e+06</td>\n",
       "      <td>39.690339</td>\n",
       "      <td>40.129474</td>\n",
       "      <td>39.326599</td>\n",
       "      <td>39.699053</td>\n",
       "      <td>5.000802e+06</td>\n",
       "    </tr>\n",
       "    <tr>\n",
       "      <th>50%</th>\n",
       "      <td>2017-09-06 00:00:00</td>\n",
       "      <td>110.714836</td>\n",
       "      <td>112.153652</td>\n",
       "      <td>109.039424</td>\n",
       "      <td>110.499565</td>\n",
       "      <td>7.701984e+06</td>\n",
       "      <td>73.246928</td>\n",
       "      <td>74.239353</td>\n",
       "      <td>72.361896</td>\n",
       "      <td>73.220032</td>\n",
       "      <td>8.768284e+06</td>\n",
       "    </tr>\n",
       "    <tr>\n",
       "      <th>75%</th>\n",
       "      <td>2021-07-07 12:00:00</td>\n",
       "      <td>128.444137</td>\n",
       "      <td>130.009759</td>\n",
       "      <td>126.501182</td>\n",
       "      <td>127.905869</td>\n",
       "      <td>1.337241e+07</td>\n",
       "      <td>106.617987</td>\n",
       "      <td>107.533931</td>\n",
       "      <td>105.373796</td>\n",
       "      <td>106.450054</td>\n",
       "      <td>1.405735e+07</td>\n",
       "    </tr>\n",
       "    <tr>\n",
       "      <th>max</th>\n",
       "      <td>2025-05-09 00:00:00</td>\n",
       "      <td>326.768847</td>\n",
       "      <td>327.623511</td>\n",
       "      <td>320.168882</td>\n",
       "      <td>324.537201</td>\n",
       "      <td>1.780948e+08</td>\n",
       "      <td>354.749603</td>\n",
       "      <td>356.893408</td>\n",
       "      <td>348.074624</td>\n",
       "      <td>356.113861</td>\n",
       "      <td>5.087530e+08</td>\n",
       "    </tr>\n",
       "    <tr>\n",
       "      <th>std</th>\n",
       "      <td>NaN</td>\n",
       "      <td>48.796241</td>\n",
       "      <td>49.358752</td>\n",
       "      <td>48.030000</td>\n",
       "      <td>48.682417</td>\n",
       "      <td>1.276749e+07</td>\n",
       "      <td>74.754075</td>\n",
       "      <td>75.706577</td>\n",
       "      <td>73.772475</td>\n",
       "      <td>74.763180</td>\n",
       "      <td>1.536347e+07</td>\n",
       "    </tr>\n",
       "  </tbody>\n",
       "</table>\n",
       "</div>"
      ],
      "text/plain": [
       "Ticker                           Date      ONGC.NS                            \\\n",
       "Price                                         Open         High          Low   \n",
       "count                            3787  3787.000000  3787.000000  3787.000000   \n",
       "mean    2017-09-03 11:01:37.913916160   123.049136   124.634228   121.208347   \n",
       "min               2010-01-04 00:00:00    41.942175    44.484125    35.304860   \n",
       "25%               2013-10-29 12:00:00    95.988220    97.379965    94.533259   \n",
       "50%               2017-09-06 00:00:00   110.714836   112.153652   109.039424   \n",
       "75%               2021-07-07 12:00:00   128.444137   130.009759   126.501182   \n",
       "max               2025-05-09 00:00:00   326.768847   327.623511   320.168882   \n",
       "std                               NaN    48.796241    49.358752    48.030000   \n",
       "\n",
       "Ticker                            POWERGRID.NS                            \\\n",
       "Price         Close        Volume         Open         High          Low   \n",
       "count   3787.000000  3.787000e+03  3787.000000  3787.000000  3787.000000   \n",
       "mean     122.813581  1.167758e+07    93.395492    94.530620    92.236811   \n",
       "min       42.365833  0.000000e+00    31.308205    31.980776    30.648630   \n",
       "25%       95.859127  4.844624e+06    39.690339    40.129474    39.326599   \n",
       "50%      110.499565  7.701984e+06    73.246928    74.239353    72.361896   \n",
       "75%      127.905869  1.337241e+07   106.617987   107.533931   105.373796   \n",
       "max      324.537201  1.780948e+08   354.749603   356.893408   348.074624   \n",
       "std       48.682417  1.276749e+07    74.754075    75.706577    73.772475   \n",
       "\n",
       "Ticker                             \n",
       "Price         Close        Volume  \n",
       "count   3787.000000  3.787000e+03  \n",
       "mean      93.375743  1.173555e+07  \n",
       "min       31.560417  0.000000e+00  \n",
       "25%       39.699053  5.000802e+06  \n",
       "50%       73.220032  8.768284e+06  \n",
       "75%      106.450054  1.405735e+07  \n",
       "max      356.113861  5.087530e+08  \n",
       "std       74.763180  1.536347e+07  "
      ]
     },
     "execution_count": 86,
     "metadata": {},
     "output_type": "execute_result"
    }
   ],
   "source": [
    "df.describe()"
   ]
  },
  {
   "cell_type": "code",
   "execution_count": 87,
   "id": "dd05d79a-7e34-421e-af2f-c27050c33018",
   "metadata": {},
   "outputs": [
    {
     "name": "stderr",
     "output_type": "stream",
     "text": [
      "C:\\Users\\admin\\AppData\\Local\\Temp\\ipykernel_8220\\188008877.py:2: PerformanceWarning: dropping on a non-lexsorted multi-index without a level parameter may impact performance.\n",
      "  df = df.drop(['Date'], axis=1)\n"
     ]
    },
    {
     "data": {
      "text/html": [
       "<div>\n",
       "<style scoped>\n",
       "    .dataframe tbody tr th:only-of-type {\n",
       "        vertical-align: middle;\n",
       "    }\n",
       "\n",
       "    .dataframe tbody tr th {\n",
       "        vertical-align: top;\n",
       "    }\n",
       "\n",
       "    .dataframe thead tr th {\n",
       "        text-align: left;\n",
       "    }\n",
       "</style>\n",
       "<table border=\"1\" class=\"dataframe\">\n",
       "  <thead>\n",
       "    <tr>\n",
       "      <th>Ticker</th>\n",
       "      <th colspan=\"5\" halign=\"left\">ONGC.NS</th>\n",
       "      <th colspan=\"5\" halign=\"left\">POWERGRID.NS</th>\n",
       "    </tr>\n",
       "    <tr>\n",
       "      <th>Price</th>\n",
       "      <th>Open</th>\n",
       "      <th>High</th>\n",
       "      <th>Low</th>\n",
       "      <th>Close</th>\n",
       "      <th>Volume</th>\n",
       "      <th>Open</th>\n",
       "      <th>High</th>\n",
       "      <th>Low</th>\n",
       "      <th>Close</th>\n",
       "      <th>Volume</th>\n",
       "    </tr>\n",
       "  </thead>\n",
       "  <tbody>\n",
       "    <tr>\n",
       "      <th>0</th>\n",
       "      <td>100.357018</td>\n",
       "      <td>101.721254</td>\n",
       "      <td>100.271750</td>\n",
       "      <td>101.248039</td>\n",
       "      <td>1905762</td>\n",
       "      <td>36.555877</td>\n",
       "      <td>37.534460</td>\n",
       "      <td>36.522706</td>\n",
       "      <td>37.285667</td>\n",
       "      <td>4353415</td>\n",
       "    </tr>\n",
       "    <tr>\n",
       "      <th>1</th>\n",
       "      <td>101.644530</td>\n",
       "      <td>103.597100</td>\n",
       "      <td>101.392997</td>\n",
       "      <td>103.021561</td>\n",
       "      <td>4657392</td>\n",
       "      <td>37.484691</td>\n",
       "      <td>37.949102</td>\n",
       "      <td>37.235899</td>\n",
       "      <td>37.401760</td>\n",
       "      <td>4374738</td>\n",
       "    </tr>\n",
       "    <tr>\n",
       "      <th>2</th>\n",
       "      <td>103.349834</td>\n",
       "      <td>104.620287</td>\n",
       "      <td>102.932036</td>\n",
       "      <td>104.321861</td>\n",
       "      <td>4203690</td>\n",
       "      <td>37.683731</td>\n",
       "      <td>37.949108</td>\n",
       "      <td>37.484697</td>\n",
       "      <td>37.667145</td>\n",
       "      <td>5549959</td>\n",
       "    </tr>\n",
       "    <tr>\n",
       "      <th>3</th>\n",
       "      <td>104.108695</td>\n",
       "      <td>105.293879</td>\n",
       "      <td>103.170781</td>\n",
       "      <td>104.432701</td>\n",
       "      <td>6394536</td>\n",
       "      <td>37.783252</td>\n",
       "      <td>38.231079</td>\n",
       "      <td>37.385185</td>\n",
       "      <td>37.998871</td>\n",
       "      <td>4535147</td>\n",
       "    </tr>\n",
       "    <tr>\n",
       "      <th>4</th>\n",
       "      <td>104.449743</td>\n",
       "      <td>105.609347</td>\n",
       "      <td>103.170767</td>\n",
       "      <td>103.656776</td>\n",
       "      <td>5678652</td>\n",
       "      <td>38.181316</td>\n",
       "      <td>38.413519</td>\n",
       "      <td>37.833004</td>\n",
       "      <td>38.098385</td>\n",
       "      <td>3809958</td>\n",
       "    </tr>\n",
       "  </tbody>\n",
       "</table>\n",
       "</div>"
      ],
      "text/plain": [
       "Ticker     ONGC.NS                                              POWERGRID.NS  \\\n",
       "Price         Open        High         Low       Close   Volume         Open   \n",
       "0       100.357018  101.721254  100.271750  101.248039  1905762    36.555877   \n",
       "1       101.644530  103.597100  101.392997  103.021561  4657392    37.484691   \n",
       "2       103.349834  104.620287  102.932036  104.321861  4203690    37.683731   \n",
       "3       104.108695  105.293879  103.170781  104.432701  6394536    37.783252   \n",
       "4       104.449743  105.609347  103.170767  103.656776  5678652    38.181316   \n",
       "\n",
       "Ticker                                            \n",
       "Price        High        Low      Close   Volume  \n",
       "0       37.534460  36.522706  37.285667  4353415  \n",
       "1       37.949102  37.235899  37.401760  4374738  \n",
       "2       37.949108  37.484697  37.667145  5549959  \n",
       "3       38.231079  37.385185  37.998871  4535147  \n",
       "4       38.413519  37.833004  38.098385  3809958  "
      ]
     },
     "execution_count": 87,
     "metadata": {},
     "output_type": "execute_result"
    }
   ],
   "source": [
    "\n",
    "\n",
    "# Drop 'Date' and 'Adj Close' columns\n",
    "df = df.drop(['Date'], axis=1)\n",
    "df.head()\n",
    "\n",
    "\n"
   ]
  },
  {
   "cell_type": "code",
   "execution_count": 88,
   "id": "c25189c7-91be-40d5-8d0d-3b4ebd306f3a",
   "metadata": {},
   "outputs": [
    {
     "data": {
      "text/html": [
       "<div>\n",
       "<style scoped>\n",
       "    .dataframe tbody tr th:only-of-type {\n",
       "        vertical-align: middle;\n",
       "    }\n",
       "\n",
       "    .dataframe tbody tr th {\n",
       "        vertical-align: top;\n",
       "    }\n",
       "\n",
       "    .dataframe thead tr th {\n",
       "        text-align: left;\n",
       "    }\n",
       "</style>\n",
       "<table border=\"1\" class=\"dataframe\">\n",
       "  <thead>\n",
       "    <tr>\n",
       "      <th>Ticker</th>\n",
       "      <th colspan=\"5\" halign=\"left\">ONGC.NS</th>\n",
       "      <th colspan=\"5\" halign=\"left\">POWERGRID.NS</th>\n",
       "    </tr>\n",
       "    <tr>\n",
       "      <th>Price</th>\n",
       "      <th>Open</th>\n",
       "      <th>High</th>\n",
       "      <th>Low</th>\n",
       "      <th>Close</th>\n",
       "      <th>Volume</th>\n",
       "      <th>Open</th>\n",
       "      <th>High</th>\n",
       "      <th>Low</th>\n",
       "      <th>Close</th>\n",
       "      <th>Volume</th>\n",
       "    </tr>\n",
       "  </thead>\n",
       "  <tbody>\n",
       "    <tr>\n",
       "      <th>0</th>\n",
       "      <td>100.357018</td>\n",
       "      <td>101.721254</td>\n",
       "      <td>100.271750</td>\n",
       "      <td>101.248039</td>\n",
       "      <td>1905762</td>\n",
       "      <td>36.555877</td>\n",
       "      <td>37.534460</td>\n",
       "      <td>36.522706</td>\n",
       "      <td>37.285667</td>\n",
       "      <td>4353415</td>\n",
       "    </tr>\n",
       "    <tr>\n",
       "      <th>1</th>\n",
       "      <td>101.644530</td>\n",
       "      <td>103.597100</td>\n",
       "      <td>101.392997</td>\n",
       "      <td>103.021561</td>\n",
       "      <td>4657392</td>\n",
       "      <td>37.484691</td>\n",
       "      <td>37.949102</td>\n",
       "      <td>37.235899</td>\n",
       "      <td>37.401760</td>\n",
       "      <td>4374738</td>\n",
       "    </tr>\n",
       "    <tr>\n",
       "      <th>2</th>\n",
       "      <td>103.349834</td>\n",
       "      <td>104.620287</td>\n",
       "      <td>102.932036</td>\n",
       "      <td>104.321861</td>\n",
       "      <td>4203690</td>\n",
       "      <td>37.683731</td>\n",
       "      <td>37.949108</td>\n",
       "      <td>37.484697</td>\n",
       "      <td>37.667145</td>\n",
       "      <td>5549959</td>\n",
       "    </tr>\n",
       "    <tr>\n",
       "      <th>3</th>\n",
       "      <td>104.108695</td>\n",
       "      <td>105.293879</td>\n",
       "      <td>103.170781</td>\n",
       "      <td>104.432701</td>\n",
       "      <td>6394536</td>\n",
       "      <td>37.783252</td>\n",
       "      <td>38.231079</td>\n",
       "      <td>37.385185</td>\n",
       "      <td>37.998871</td>\n",
       "      <td>4535147</td>\n",
       "    </tr>\n",
       "    <tr>\n",
       "      <th>4</th>\n",
       "      <td>104.449743</td>\n",
       "      <td>105.609347</td>\n",
       "      <td>103.170767</td>\n",
       "      <td>103.656776</td>\n",
       "      <td>5678652</td>\n",
       "      <td>38.181316</td>\n",
       "      <td>38.413519</td>\n",
       "      <td>37.833004</td>\n",
       "      <td>38.098385</td>\n",
       "      <td>3809958</td>\n",
       "    </tr>\n",
       "  </tbody>\n",
       "</table>\n",
       "</div>"
      ],
      "text/plain": [
       "Ticker     ONGC.NS                                              POWERGRID.NS  \\\n",
       "Price         Open        High         Low       Close   Volume         Open   \n",
       "0       100.357018  101.721254  100.271750  101.248039  1905762    36.555877   \n",
       "1       101.644530  103.597100  101.392997  103.021561  4657392    37.484691   \n",
       "2       103.349834  104.620287  102.932036  104.321861  4203690    37.683731   \n",
       "3       104.108695  105.293879  103.170781  104.432701  6394536    37.783252   \n",
       "4       104.449743  105.609347  103.170767  103.656776  5678652    38.181316   \n",
       "\n",
       "Ticker                                            \n",
       "Price        High        Low      Close   Volume  \n",
       "0       37.534460  36.522706  37.285667  4353415  \n",
       "1       37.949102  37.235899  37.401760  4374738  \n",
       "2       37.949108  37.484697  37.667145  5549959  \n",
       "3       38.231079  37.385185  37.998871  4535147  \n",
       "4       38.413519  37.833004  38.098385  3809958  "
      ]
     },
     "execution_count": 88,
     "metadata": {},
     "output_type": "execute_result"
    }
   ],
   "source": [
    "df.head()"
   ]
  },
  {
   "cell_type": "code",
   "execution_count": 89,
   "id": "eae9d848-b548-45a6-b4b1-59528f9118cd",
   "metadata": {},
   "outputs": [
    {
     "name": "stderr",
     "output_type": "stream",
     "text": [
      "[*********************100%***********************]  2 of 2 completed\n"
     ]
    },
    {
     "data": {
      "image/png": "[encoded data removed]",
      "text/plain": [
       "<Figure size 1200x600 with 1 Axes>"
      ]
     },
     "metadata": {},
     "output_type": "display_data"
    }
   ],
   "source": [
    "import matplotlib.pyplot as plt\n",
    "import yfinance as yf\n",
    "\n",
    "START = \"2021-01-01\"\n",
    "END = \"2025-05-12\"\n",
    "\n",
    "tickers = ['POWERGRID.NS', 'ONGC.NS']\n",
    "df = yf.download(tickers, start=START, end=END, group_by='ticker')\n",
    "\n",
    "# Plot Close price for each ticker\n",
    "plt.figure(figsize=(12, 6))\n",
    "for ticker in tickers:\n",
    "    plt.plot(df[ticker]['Close'], label=ticker)\n",
    "\n",
    "plt.title(\"Close Prices\")\n",
    "plt.xlabel(\"Date\")\n",
    "plt.ylabel(\"Price\")\n",
    "plt.legend()\n",
    "plt.grid(True)\n",
    "plt.tight_layout()\n",
    "plt.show()\n"
   ]
  },
  {
   "cell_type": "code",
   "execution_count": 90,
   "id": "2da10454-d8e9-4137-a8d2-76edd567486e",
   "metadata": {},
   "outputs": [],
   "source": [
    "ma100_powergrid = df['POWERGRID.NS']['Close'].rolling(100).mean()\n",
    "ma100_ongc = df['ONGC.NS']['Close'].rolling(100).mean()\n"
   ]
  },
  {
   "cell_type": "code",
   "execution_count": 91,
   "id": "fcd1360b-4f52-4ae5-a3b7-5033ee1960da",
   "metadata": {},
   "outputs": [
    {
     "data": {
      "image/png": "[encoded data removed]",
      "text/plain": [
       "<Figure size 1200x600 with 1 Axes>"
      ]
     },
     "metadata": {},
     "output_type": "display_data"
    }
   ],
   "source": [
    "import matplotlib.pyplot as plt\n",
    "\n",
    "plt.figure(figsize=(12, 6))\n",
    "plt.plot(df['POWERGRID.NS']['Close'], label='POWERGRID.NS Close')\n",
    "plt.plot(ma100_powergrid, label='POWERGRID.NS MA100')\n",
    "plt.plot(df['ONGC.NS']['Close'], label='ONGC.NS Close')\n",
    "plt.plot(ma100_ongc, label='ONGC.NS MA100')\n",
    "plt.title('100-day Moving Average')\n",
    "plt.xlabel('Date')\n",
    "plt.ylabel('Price')\n",
    "plt.legend()\n",
    "plt.grid(True)\n",
    "plt.tight_layout()\n",
    "plt.show()\n"
   ]
  },
  {
   "cell_type": "markdown",
   "id": "M-ojrPeXOxPq",
   "metadata": {
    "id": "M-ojrPeXOxPq"
   },
   "source": [
    "Visualizing Closing Price"
   ]
  },
  {
   "cell_type": "code",
   "execution_count": 92,
   "id": "e7fbfd75-3796-48c9-a124-afd1c7242ecd",
   "metadata": {},
   "outputs": [],
   "source": [
    "ma200_powergrid = df['POWERGRID.NS']['Close'].rolling(200).mean()\n",
    "ma200_ongc = df['ONGC.NS']['Close'].rolling(200).mean()"
   ]
  },
  {
   "cell_type": "code",
   "execution_count": 93,
   "id": "039d395f-8b37-458a-bf93-4c1fc374b4cf",
   "metadata": {},
   "outputs": [
    {
     "data": {
      "image/png": "[encoded data removed]",
      "text/plain": [
       "<Figure size 640x480 with 1 Axes>"
      ]
     },
     "metadata": {},
     "output_type": "display_data"
    }
   ],
   "source": [
    "plt.plot(df['POWERGRID.NS']['Close'], label='POWERGRID.NS Close')\n",
    "plt.plot(ma200_powergrid, label='POWERGRID.NS MA200')\n",
    "plt.plot(df['ONGC.NS']['Close'], label='ONGC.NS Close')\n",
    "plt.plot(ma200_ongc, label='ONGC.NS MA200')\n",
    "plt.title('200-day Moving Average')\n",
    "plt.xlabel('Date')\n",
    "plt.ylabel('Price')\n",
    "plt.legend()\n",
    "plt.grid(True)\n",
    "plt.tight_layout()\n",
    "plt.show()"
   ]
  },
  {
   "cell_type": "code",
   "execution_count": 94,
   "id": "578968e3-a842-47c7-b2a3-1c18db91508f",
   "metadata": {},
   "outputs": [
    {
     "data": {
      "text/plain": [
       "(1074, 10)"
      ]
     },
     "execution_count": 94,
     "metadata": {},
     "output_type": "execute_result"
    }
   ],
   "source": [
    "df.shape"
   ]
  },
  {
   "cell_type": "markdown",
   "id": "e3272149-eb50-43bd-86aa-a301a9ef6074",
   "metadata": {},
   "source": [
    "plt.figure(figsize=(12, 6))\n",
    "plt.plot(df['Close'], label='Close Price')\n",
    "plt.plot(ma100, 'r', label='100-day MA') \n",
    "plt.plot(ma200, 'g', label='100-day MA') "
   ]
  },
  {
   "cell_type": "code",
   "execution_count": 95,
   "id": "f33a31a0-8292-428e-ba60-88581b3d2d60",
   "metadata": {},
   "outputs": [
    {
     "data": {
      "text/plain": [
       "MultiIndex([('POWERGRID.NS',   'Open'),\n",
       "            ('POWERGRID.NS',   'High'),\n",
       "            ('POWERGRID.NS',    'Low'),\n",
       "            ('POWERGRID.NS',  'Close'),\n",
       "            ('POWERGRID.NS', 'Volume'),\n",
       "            (     'ONGC.NS',   'Open'),\n",
       "            (     'ONGC.NS',   'High'),\n",
       "            (     'ONGC.NS',    'Low'),\n",
       "            (     'ONGC.NS',  'Close'),\n",
       "            (     'ONGC.NS', 'Volume')],\n",
       "           names=['Ticker', 'Price'])"
      ]
     },
     "execution_count": 95,
     "metadata": {},
     "output_type": "execute_result"
    }
   ],
   "source": [
    "df.columns"
   ]
  },
  {
   "cell_type": "code",
   "execution_count": 96,
   "id": "f064039f-a79c-425a-af70-1266b4750373",
   "metadata": {},
   "outputs": [],
   "source": [
    "data01_POW = df.to_csv(\"powergrid.csv\")\n",
    "data01_ONG = df.to_csv(\"ongc.csv\")\n"
   ]
  },
  {
   "cell_type": "code",
   "execution_count": 97,
   "id": "4fafcad1-d8de-4470-931f-a502562207c3",
   "metadata": {},
   "outputs": [],
   "source": [
    "data01_POW = pd.read_csv(\"powergrid.csv\")\n",
    "data01_ONG = pd.read_csv(\"ongc.csv\")"
   ]
  },
  {
   "cell_type": "code",
   "execution_count": 98,
   "id": "0f973a29-4f86-49c9-8f4c-92ee71097f16",
   "metadata": {},
   "outputs": [
    {
     "data": {
      "text/html": [
       "<div>\n",
       "<style scoped>\n",
       "    .dataframe tbody tr th:only-of-type {\n",
       "        vertical-align: middle;\n",
       "    }\n",
       "\n",
       "    .dataframe tbody tr th {\n",
       "        vertical-align: top;\n",
       "    }\n",
       "\n",
       "    .dataframe thead th {\n",
       "        text-align: right;\n",
       "    }\n",
       "</style>\n",
       "<table border=\"1\" class=\"dataframe\">\n",
       "  <thead>\n",
       "    <tr style=\"text-align: right;\">\n",
       "      <th></th>\n",
       "      <th>Ticker</th>\n",
       "      <th>POWERGRID.NS</th>\n",
       "      <th>POWERGRID.NS.1</th>\n",
       "      <th>POWERGRID.NS.2</th>\n",
       "      <th>POWERGRID.NS.3</th>\n",
       "      <th>POWERGRID.NS.4</th>\n",
       "      <th>ONGC.NS</th>\n",
       "      <th>ONGC.NS.1</th>\n",
       "      <th>ONGC.NS.2</th>\n",
       "      <th>ONGC.NS.3</th>\n",
       "      <th>ONGC.NS.4</th>\n",
       "    </tr>\n",
       "  </thead>\n",
       "  <tbody>\n",
       "    <tr>\n",
       "      <th>0</th>\n",
       "      <td>Price</td>\n",
       "      <td>Open</td>\n",
       "      <td>High</td>\n",
       "      <td>Low</td>\n",
       "      <td>Close</td>\n",
       "      <td>Volume</td>\n",
       "      <td>Open</td>\n",
       "      <td>High</td>\n",
       "      <td>Low</td>\n",
       "      <td>Close</td>\n",
       "      <td>Volume</td>\n",
       "    </tr>\n",
       "    <tr>\n",
       "      <th>1</th>\n",
       "      <td>Date</td>\n",
       "      <td>NaN</td>\n",
       "      <td>NaN</td>\n",
       "      <td>NaN</td>\n",
       "      <td>NaN</td>\n",
       "      <td>NaN</td>\n",
       "      <td>NaN</td>\n",
       "      <td>NaN</td>\n",
       "      <td>NaN</td>\n",
       "      <td>NaN</td>\n",
       "      <td>NaN</td>\n",
       "    </tr>\n",
       "    <tr>\n",
       "      <th>2</th>\n",
       "      <td>2021-01-01</td>\n",
       "      <td>84.98641094918777</td>\n",
       "      <td>85.39111293621677</td>\n",
       "      <td>84.76157922259429</td>\n",
       "      <td>85.21124267578125</td>\n",
       "      <td>3074621</td>\n",
       "      <td>71.11098098708979</td>\n",
       "      <td>71.64194066364948</td>\n",
       "      <td>70.54209313919307</td>\n",
       "      <td>70.69379425048828</td>\n",
       "      <td>15130377</td>\n",
       "    </tr>\n",
       "    <tr>\n",
       "      <th>3</th>\n",
       "      <td>2021-01-04</td>\n",
       "      <td>85.4360888850107</td>\n",
       "      <td>85.61595917593681</td>\n",
       "      <td>84.53676182618803</td>\n",
       "      <td>84.7391128540039</td>\n",
       "      <td>7133203</td>\n",
       "      <td>71.33852852349288</td>\n",
       "      <td>73.80370885499973</td>\n",
       "      <td>71.07304293509472</td>\n",
       "      <td>73.53822326660156</td>\n",
       "      <td>39545073</td>\n",
       "    </tr>\n",
       "    <tr>\n",
       "      <th>4</th>\n",
       "      <td>2021-01-05</td>\n",
       "      <td>85.21124599954695</td>\n",
       "      <td>85.21124599954695</td>\n",
       "      <td>83.72735898572958</td>\n",
       "      <td>84.53675079345703</td>\n",
       "      <td>10478882</td>\n",
       "      <td>73.19690600119596</td>\n",
       "      <td>73.19690600119596</td>\n",
       "      <td>71.56609294842718</td>\n",
       "      <td>72.02120208740234</td>\n",
       "      <td>26998014</td>\n",
       "    </tr>\n",
       "    <tr>\n",
       "      <th>...</th>\n",
       "      <td>...</td>\n",
       "      <td>...</td>\n",
       "      <td>...</td>\n",
       "      <td>...</td>\n",
       "      <td>...</td>\n",
       "      <td>...</td>\n",
       "      <td>...</td>\n",
       "      <td>...</td>\n",
       "      <td>...</td>\n",
       "      <td>...</td>\n",
       "      <td>...</td>\n",
       "    </tr>\n",
       "    <tr>\n",
       "      <th>1071</th>\n",
       "      <td>2025-05-05</td>\n",
       "      <td>304.79998779296875</td>\n",
       "      <td>310.70001220703125</td>\n",
       "      <td>304.6499938964844</td>\n",
       "      <td>308.20001220703125</td>\n",
       "      <td>4342960</td>\n",
       "      <td>240.0</td>\n",
       "      <td>241.14999389648438</td>\n",
       "      <td>234.5</td>\n",
       "      <td>239.1999969482422</td>\n",
       "      <td>20086323</td>\n",
       "    </tr>\n",
       "    <tr>\n",
       "      <th>1072</th>\n",
       "      <td>2025-05-06</td>\n",
       "      <td>307.6000061035156</td>\n",
       "      <td>310.45001220703125</td>\n",
       "      <td>305.54998779296875</td>\n",
       "      <td>307.6000061035156</td>\n",
       "      <td>9124804</td>\n",
       "      <td>241.1300048828125</td>\n",
       "      <td>242.99000549316406</td>\n",
       "      <td>236.0</td>\n",
       "      <td>237.0</td>\n",
       "      <td>11350559</td>\n",
       "    </tr>\n",
       "    <tr>\n",
       "      <th>1073</th>\n",
       "      <td>2025-05-07</td>\n",
       "      <td>308.0</td>\n",
       "      <td>313.1499938964844</td>\n",
       "      <td>307.0</td>\n",
       "      <td>311.1000061035156</td>\n",
       "      <td>14679327</td>\n",
       "      <td>232.3000030517578</td>\n",
       "      <td>240.08999633789062</td>\n",
       "      <td>232.07000732421875</td>\n",
       "      <td>238.6699981689453</td>\n",
       "      <td>16689539</td>\n",
       "    </tr>\n",
       "    <tr>\n",
       "      <th>1074</th>\n",
       "      <td>2025-05-08</td>\n",
       "      <td>313.3999938964844</td>\n",
       "      <td>317.3999938964844</td>\n",
       "      <td>304.0</td>\n",
       "      <td>308.25</td>\n",
       "      <td>19253478</td>\n",
       "      <td>237.66000366210938</td>\n",
       "      <td>239.33999633789062</td>\n",
       "      <td>231.39999389648438</td>\n",
       "      <td>233.22000122070312</td>\n",
       "      <td>15026122</td>\n",
       "    </tr>\n",
       "    <tr>\n",
       "      <th>1075</th>\n",
       "      <td>2025-05-09</td>\n",
       "      <td>300.0</td>\n",
       "      <td>303.04998779296875</td>\n",
       "      <td>296.3999938964844</td>\n",
       "      <td>299.29998779296875</td>\n",
       "      <td>11981497</td>\n",
       "      <td>229.10000610351562</td>\n",
       "      <td>235.3000030517578</td>\n",
       "      <td>228.4499969482422</td>\n",
       "      <td>234.9600067138672</td>\n",
       "      <td>11184507</td>\n",
       "    </tr>\n",
       "  </tbody>\n",
       "</table>\n",
       "<p>1076 rows × 11 columns</p>\n",
       "</div>"
      ],
      "text/plain": [
       "          Ticker        POWERGRID.NS      POWERGRID.NS.1      POWERGRID.NS.2  \\\n",
       "0          Price                Open                High                 Low   \n",
       "1           Date                 NaN                 NaN                 NaN   \n",
       "2     2021-01-01   84.98641094918777   85.39111293621677   84.76157922259429   \n",
       "3     2021-01-04    85.4360888850107   85.61595917593681   84.53676182618803   \n",
       "4     2021-01-05   85.21124599954695   85.21124599954695   83.72735898572958   \n",
       "...          ...                 ...                 ...                 ...   \n",
       "1071  2025-05-05  304.79998779296875  310.70001220703125   304.6499938964844   \n",
       "1072  2025-05-06   307.6000061035156  310.45001220703125  305.54998779296875   \n",
       "1073  2025-05-07               308.0   313.1499938964844               307.0   \n",
       "1074  2025-05-08   313.3999938964844   317.3999938964844               304.0   \n",
       "1075  2025-05-09               300.0  303.04998779296875   296.3999938964844   \n",
       "\n",
       "          POWERGRID.NS.3 POWERGRID.NS.4             ONGC.NS  \\\n",
       "0                  Close         Volume                Open   \n",
       "1                    NaN            NaN                 NaN   \n",
       "2      85.21124267578125        3074621   71.11098098708979   \n",
       "3       84.7391128540039        7133203   71.33852852349288   \n",
       "4      84.53675079345703       10478882   73.19690600119596   \n",
       "...                  ...            ...                 ...   \n",
       "1071  308.20001220703125        4342960               240.0   \n",
       "1072   307.6000061035156        9124804   241.1300048828125   \n",
       "1073   311.1000061035156       14679327   232.3000030517578   \n",
       "1074              308.25       19253478  237.66000366210938   \n",
       "1075  299.29998779296875       11981497  229.10000610351562   \n",
       "\n",
       "               ONGC.NS.1           ONGC.NS.2           ONGC.NS.3 ONGC.NS.4  \n",
       "0                   High                 Low               Close    Volume  \n",
       "1                    NaN                 NaN                 NaN       NaN  \n",
       "2      71.64194066364948   70.54209313919307   70.69379425048828  15130377  \n",
       "3      73.80370885499973   71.07304293509472   73.53822326660156  39545073  \n",
       "4      73.19690600119596   71.56609294842718   72.02120208740234  26998014  \n",
       "...                  ...                 ...                 ...       ...  \n",
       "1071  241.14999389648438               234.5   239.1999969482422  20086323  \n",
       "1072  242.99000549316406               236.0               237.0  11350559  \n",
       "1073  240.08999633789062  232.07000732421875   238.6699981689453  16689539  \n",
       "1074  239.33999633789062  231.39999389648438  233.22000122070312  15026122  \n",
       "1075   235.3000030517578   228.4499969482422   234.9600067138672  11184507  \n",
       "\n",
       "[1076 rows x 11 columns]"
      ]
     },
     "execution_count": 98,
     "metadata": {},
     "output_type": "execute_result"
    }
   ],
   "source": [
    "data01_POW\n",
    "data01_ONG"
   ]
  },
  {
   "cell_type": "code",
   "execution_count": 99,
   "id": "f9676d78",
   "metadata": {},
   "outputs": [
    {
     "data": {
      "text/html": [
       "<div>\n",
       "<style scoped>\n",
       "    .dataframe tbody tr th:only-of-type {\n",
       "        vertical-align: middle;\n",
       "    }\n",
       "\n",
       "    .dataframe tbody tr th {\n",
       "        vertical-align: top;\n",
       "    }\n",
       "\n",
       "    .dataframe thead th {\n",
       "        text-align: right;\n",
       "    }\n",
       "</style>\n",
       "<table border=\"1\" class=\"dataframe\">\n",
       "  <thead>\n",
       "    <tr style=\"text-align: right;\">\n",
       "      <th></th>\n",
       "      <th>Ticker</th>\n",
       "      <th>POWERGRID.NS</th>\n",
       "      <th>POWERGRID.NS.1</th>\n",
       "      <th>POWERGRID.NS.2</th>\n",
       "      <th>POWERGRID.NS.3</th>\n",
       "      <th>POWERGRID.NS.4</th>\n",
       "      <th>ONGC.NS</th>\n",
       "      <th>ONGC.NS.1</th>\n",
       "      <th>ONGC.NS.2</th>\n",
       "      <th>ONGC.NS.3</th>\n",
       "      <th>ONGC.NS.4</th>\n",
       "    </tr>\n",
       "  </thead>\n",
       "  <tbody>\n",
       "    <tr>\n",
       "      <th>0</th>\n",
       "      <td>Price</td>\n",
       "      <td>Open</td>\n",
       "      <td>High</td>\n",
       "      <td>Low</td>\n",
       "      <td>Close</td>\n",
       "      <td>Volume</td>\n",
       "      <td>Open</td>\n",
       "      <td>High</td>\n",
       "      <td>Low</td>\n",
       "      <td>Close</td>\n",
       "      <td>Volume</td>\n",
       "    </tr>\n",
       "    <tr>\n",
       "      <th>1</th>\n",
       "      <td>Date</td>\n",
       "      <td>NaN</td>\n",
       "      <td>NaN</td>\n",
       "      <td>NaN</td>\n",
       "      <td>NaN</td>\n",
       "      <td>NaN</td>\n",
       "      <td>NaN</td>\n",
       "      <td>NaN</td>\n",
       "      <td>NaN</td>\n",
       "      <td>NaN</td>\n",
       "      <td>NaN</td>\n",
       "    </tr>\n",
       "    <tr>\n",
       "      <th>2</th>\n",
       "      <td>2021-01-01</td>\n",
       "      <td>84.98641094918777</td>\n",
       "      <td>85.39111293621677</td>\n",
       "      <td>84.76157922259429</td>\n",
       "      <td>85.21124267578125</td>\n",
       "      <td>3074621</td>\n",
       "      <td>71.11098098708979</td>\n",
       "      <td>71.64194066364948</td>\n",
       "      <td>70.54209313919307</td>\n",
       "      <td>70.69379425048828</td>\n",
       "      <td>15130377</td>\n",
       "    </tr>\n",
       "    <tr>\n",
       "      <th>3</th>\n",
       "      <td>2021-01-04</td>\n",
       "      <td>85.4360888850107</td>\n",
       "      <td>85.61595917593681</td>\n",
       "      <td>84.53676182618803</td>\n",
       "      <td>84.7391128540039</td>\n",
       "      <td>7133203</td>\n",
       "      <td>71.33852852349288</td>\n",
       "      <td>73.80370885499973</td>\n",
       "      <td>71.07304293509472</td>\n",
       "      <td>73.53822326660156</td>\n",
       "      <td>39545073</td>\n",
       "    </tr>\n",
       "    <tr>\n",
       "      <th>4</th>\n",
       "      <td>2021-01-05</td>\n",
       "      <td>85.21124599954695</td>\n",
       "      <td>85.21124599954695</td>\n",
       "      <td>83.72735898572958</td>\n",
       "      <td>84.53675079345703</td>\n",
       "      <td>10478882</td>\n",
       "      <td>73.19690600119596</td>\n",
       "      <td>73.19690600119596</td>\n",
       "      <td>71.56609294842718</td>\n",
       "      <td>72.02120208740234</td>\n",
       "      <td>26998014</td>\n",
       "    </tr>\n",
       "  </tbody>\n",
       "</table>\n",
       "</div>"
      ],
      "text/plain": [
       "       Ticker       POWERGRID.NS     POWERGRID.NS.1     POWERGRID.NS.2  \\\n",
       "0       Price               Open               High                Low   \n",
       "1        Date                NaN                NaN                NaN   \n",
       "2  2021-01-01  84.98641094918777  85.39111293621677  84.76157922259429   \n",
       "3  2021-01-04   85.4360888850107  85.61595917593681  84.53676182618803   \n",
       "4  2021-01-05  85.21124599954695  85.21124599954695  83.72735898572958   \n",
       "\n",
       "      POWERGRID.NS.3 POWERGRID.NS.4            ONGC.NS          ONGC.NS.1  \\\n",
       "0              Close         Volume               Open               High   \n",
       "1                NaN            NaN                NaN                NaN   \n",
       "2  85.21124267578125        3074621  71.11098098708979  71.64194066364948   \n",
       "3   84.7391128540039        7133203  71.33852852349288  73.80370885499973   \n",
       "4  84.53675079345703       10478882  73.19690600119596  73.19690600119596   \n",
       "\n",
       "           ONGC.NS.2          ONGC.NS.3 ONGC.NS.4  \n",
       "0                Low              Close    Volume  \n",
       "1                NaN                NaN       NaN  \n",
       "2  70.54209313919307  70.69379425048828  15130377  \n",
       "3  71.07304293509472  73.53822326660156  39545073  \n",
       "4  71.56609294842718  72.02120208740234  26998014  "
      ]
     },
     "execution_count": 99,
     "metadata": {},
     "output_type": "execute_result"
    }
   ],
   "source": [
    "data01_POW.head()\n",
    "data01_ONG.head()"
   ]
  },
  {
   "cell_type": "code",
   "execution_count": 100,
   "id": "735bd930-3f64-448d-aebe-93a1a0ea581b",
   "metadata": {},
   "outputs": [
    {
     "data": {
      "text/plain": [
       "True"
      ]
     },
     "execution_count": 100,
     "metadata": {},
     "output_type": "execute_result"
    }
   ],
   "source": [
    "import webbrowser\n",
    "webbrowser.open(\"candlestick_chart.html\")\n"
   ]
  },
  {
   "cell_type": "code",
   "execution_count": null,
   "id": "eb4801a2",
   "metadata": {},
   "outputs": [],
   "source": []
  },
  {
   "cell_type": "code",
   "execution_count": 75,
   "id": "d0d12f96-9e0e-4dc4-8880-f5297a61903b",
   "metadata": {},
   "outputs": [
    {
     "data": {
      "text/html": [
       "<div>\n",
       "<style scoped>\n",
       "    .dataframe tbody tr th:only-of-type {\n",
       "        vertical-align: middle;\n",
       "    }\n",
       "\n",
       "    .dataframe tbody tr th {\n",
       "        vertical-align: top;\n",
       "    }\n",
       "\n",
       "    .dataframe thead th {\n",
       "        text-align: right;\n",
       "    }\n",
       "</style>\n",
       "<table border=\"1\" class=\"dataframe\">\n",
       "  <thead>\n",
       "    <tr style=\"text-align: right;\">\n",
       "      <th></th>\n",
       "      <th>Ticker</th>\n",
       "      <th>AAPL.NS</th>\n",
       "      <th>AAPL.NS.1</th>\n",
       "      <th>AAPL.NS.2</th>\n",
       "      <th>AAPL.NS.3</th>\n",
       "      <th>AAPL.NS.4</th>\n",
       "      <th>AAPL.NS.5</th>\n",
       "      <th>ONGC.NS</th>\n",
       "      <th>ONGC.NS.1</th>\n",
       "      <th>ONGC.NS.2</th>\n",
       "      <th>ONGC.NS.3</th>\n",
       "      <th>ONGC.NS.4</th>\n",
       "      <th>POWERGRID.NS</th>\n",
       "      <th>POWERGRID.NS.1</th>\n",
       "      <th>POWERGRID.NS.2</th>\n",
       "      <th>POWERGRID.NS.3</th>\n",
       "      <th>POWERGRID.NS.4</th>\n",
       "    </tr>\n",
       "  </thead>\n",
       "  <tbody>\n",
       "    <tr>\n",
       "      <th>0</th>\n",
       "      <td>Price</td>\n",
       "      <td>Open</td>\n",
       "      <td>High</td>\n",
       "      <td>Low</td>\n",
       "      <td>Close</td>\n",
       "      <td>Adj Close</td>\n",
       "      <td>Volume</td>\n",
       "      <td>Open</td>\n",
       "      <td>High</td>\n",
       "      <td>Low</td>\n",
       "      <td>Close</td>\n",
       "      <td>Volume</td>\n",
       "      <td>Open</td>\n",
       "      <td>High</td>\n",
       "      <td>Low</td>\n",
       "      <td>Close</td>\n",
       "      <td>Volume</td>\n",
       "    </tr>\n",
       "    <tr>\n",
       "      <th>1</th>\n",
       "      <td>Date</td>\n",
       "      <td>NaN</td>\n",
       "      <td>NaN</td>\n",
       "      <td>NaN</td>\n",
       "      <td>NaN</td>\n",
       "      <td>NaN</td>\n",
       "      <td>NaN</td>\n",
       "      <td>NaN</td>\n",
       "      <td>NaN</td>\n",
       "      <td>NaN</td>\n",
       "      <td>NaN</td>\n",
       "      <td>NaN</td>\n",
       "      <td>NaN</td>\n",
       "      <td>NaN</td>\n",
       "      <td>NaN</td>\n",
       "      <td>NaN</td>\n",
       "      <td>NaN</td>\n",
       "    </tr>\n",
       "    <tr>\n",
       "      <th>2</th>\n",
       "      <td>2010-01-04</td>\n",
       "      <td>NaN</td>\n",
       "      <td>NaN</td>\n",
       "      <td>NaN</td>\n",
       "      <td>NaN</td>\n",
       "      <td>NaN</td>\n",
       "      <td>NaN</td>\n",
       "      <td>100.3570179748269</td>\n",
       "      <td>101.7212542710527</td>\n",
       "      <td>100.2717502789681</td>\n",
       "      <td>101.24803924560547</td>\n",
       "      <td>1905762</td>\n",
       "      <td>36.555877384436336</td>\n",
       "      <td>37.53445963020358</td>\n",
       "      <td>36.522706439451134</td>\n",
       "      <td>37.285667419433594</td>\n",
       "      <td>4353415</td>\n",
       "    </tr>\n",
       "    <tr>\n",
       "      <th>3</th>\n",
       "      <td>2010-01-05</td>\n",
       "      <td>NaN</td>\n",
       "      <td>NaN</td>\n",
       "      <td>NaN</td>\n",
       "      <td>NaN</td>\n",
       "      <td>NaN</td>\n",
       "      <td>NaN</td>\n",
       "      <td>101.64452977632394</td>\n",
       "      <td>103.5971001140232</td>\n",
       "      <td>101.39299668171537</td>\n",
       "      <td>103.02156066894531</td>\n",
       "      <td>4657392</td>\n",
       "      <td>37.484690813297874</td>\n",
       "      <td>37.94910190052733</td>\n",
       "      <td>37.23589867735934</td>\n",
       "      <td>37.40176010131836</td>\n",
       "      <td>4374738</td>\n",
       "    </tr>\n",
       "    <tr>\n",
       "      <th>4</th>\n",
       "      <td>2010-01-06</td>\n",
       "      <td>NaN</td>\n",
       "      <td>NaN</td>\n",
       "      <td>NaN</td>\n",
       "      <td>NaN</td>\n",
       "      <td>NaN</td>\n",
       "      <td>NaN</td>\n",
       "      <td>103.34983436120352</td>\n",
       "      <td>104.62028654022187</td>\n",
       "      <td>102.93203585631719</td>\n",
       "      <td>104.32186126708984</td>\n",
       "      <td>4203690</td>\n",
       "      <td>37.68373137033265</td>\n",
       "      <td>37.949107890845504</td>\n",
       "      <td>37.48469673030812</td>\n",
       "      <td>37.667144775390625</td>\n",
       "      <td>5549959</td>\n",
       "    </tr>\n",
       "  </tbody>\n",
       "</table>\n",
       "</div>"
      ],
      "text/plain": [
       "       Ticker AAPL.NS AAPL.NS.1 AAPL.NS.2 AAPL.NS.3  AAPL.NS.4 AAPL.NS.5  \\\n",
       "0       Price    Open      High       Low     Close  Adj Close    Volume   \n",
       "1        Date     NaN       NaN       NaN       NaN        NaN       NaN   \n",
       "2  2010-01-04     NaN       NaN       NaN       NaN        NaN       NaN   \n",
       "3  2010-01-05     NaN       NaN       NaN       NaN        NaN       NaN   \n",
       "4  2010-01-06     NaN       NaN       NaN       NaN        NaN       NaN   \n",
       "\n",
       "              ONGC.NS           ONGC.NS.1           ONGC.NS.2  \\\n",
       "0                Open                High                 Low   \n",
       "1                 NaN                 NaN                 NaN   \n",
       "2   100.3570179748269   101.7212542710527   100.2717502789681   \n",
       "3  101.64452977632394   103.5971001140232  101.39299668171537   \n",
       "4  103.34983436120352  104.62028654022187  102.93203585631719   \n",
       "\n",
       "            ONGC.NS.3 ONGC.NS.4        POWERGRID.NS      POWERGRID.NS.1  \\\n",
       "0               Close    Volume                Open                High   \n",
       "1                 NaN       NaN                 NaN                 NaN   \n",
       "2  101.24803924560547   1905762  36.555877384436336   37.53445963020358   \n",
       "3  103.02156066894531   4657392  37.484690813297874   37.94910190052733   \n",
       "4  104.32186126708984   4203690   37.68373137033265  37.949107890845504   \n",
       "\n",
       "       POWERGRID.NS.2      POWERGRID.NS.3 POWERGRID.NS.4  \n",
       "0                 Low               Close         Volume  \n",
       "1                 NaN                 NaN            NaN  \n",
       "2  36.522706439451134  37.285667419433594        4353415  \n",
       "3   37.23589867735934   37.40176010131836        4374738  \n",
       "4   37.48469673030812  37.667144775390625        5549959  "
      ]
     },
     "execution_count": 75,
     "metadata": {},
     "output_type": "execute_result"
    }
   ],
   "source": [
    "data01_POW.head()\n",
    "data01_ONG.head()"
   ]
  },
  {
   "cell_type": "code",
   "execution_count": null,
   "id": "c3f1de3e-50cb-4d23-9890-8900e90ae5f1",
   "metadata": {},
   "outputs": [],
   "source": []
  },
  {
   "cell_type": "code",
   "execution_count": 50,
   "id": "fdff66f8-7046-42ac-aef4-d7fdd6c5e1e0",
   "metadata": {},
   "outputs": [],
   "source": [
    "#moving Average"
   ]
  },
  {
   "cell_type": "code",
   "execution_count": 101,
   "id": "e893b12a-8d60-47b4-8677-7fb2cd88260f",
   "metadata": {},
   "outputs": [
    {
     "data": {
      "text/html": [
       "<div>\n",
       "<style scoped>\n",
       "    .dataframe tbody tr th:only-of-type {\n",
       "        vertical-align: middle;\n",
       "    }\n",
       "\n",
       "    .dataframe tbody tr th {\n",
       "        vertical-align: top;\n",
       "    }\n",
       "\n",
       "    .dataframe thead tr th {\n",
       "        text-align: left;\n",
       "    }\n",
       "\n",
       "    .dataframe thead tr:last-of-type th {\n",
       "        text-align: right;\n",
       "    }\n",
       "</style>\n",
       "<table border=\"1\" class=\"dataframe\">\n",
       "  <thead>\n",
       "    <tr>\n",
       "      <th>Ticker</th>\n",
       "      <th colspan=\"5\" halign=\"left\">POWERGRID.NS</th>\n",
       "      <th colspan=\"5\" halign=\"left\">ONGC.NS</th>\n",
       "    </tr>\n",
       "    <tr>\n",
       "      <th>Price</th>\n",
       "      <th>Open</th>\n",
       "      <th>High</th>\n",
       "      <th>Low</th>\n",
       "      <th>Close</th>\n",
       "      <th>Volume</th>\n",
       "      <th>Open</th>\n",
       "      <th>High</th>\n",
       "      <th>Low</th>\n",
       "      <th>Close</th>\n",
       "      <th>Volume</th>\n",
       "    </tr>\n",
       "    <tr>\n",
       "      <th>Date</th>\n",
       "      <th></th>\n",
       "      <th></th>\n",
       "      <th></th>\n",
       "      <th></th>\n",
       "      <th></th>\n",
       "      <th></th>\n",
       "      <th></th>\n",
       "      <th></th>\n",
       "      <th></th>\n",
       "      <th></th>\n",
       "    </tr>\n",
       "  </thead>\n",
       "  <tbody>\n",
       "    <tr>\n",
       "      <th>2021-01-01</th>\n",
       "      <td>84.986411</td>\n",
       "      <td>85.391113</td>\n",
       "      <td>84.761579</td>\n",
       "      <td>85.211243</td>\n",
       "      <td>3074621</td>\n",
       "      <td>71.110981</td>\n",
       "      <td>71.641941</td>\n",
       "      <td>70.542093</td>\n",
       "      <td>70.693794</td>\n",
       "      <td>15130377</td>\n",
       "    </tr>\n",
       "    <tr>\n",
       "      <th>2021-01-04</th>\n",
       "      <td>85.436089</td>\n",
       "      <td>85.615959</td>\n",
       "      <td>84.536762</td>\n",
       "      <td>84.739113</td>\n",
       "      <td>7133203</td>\n",
       "      <td>71.338529</td>\n",
       "      <td>73.803709</td>\n",
       "      <td>71.073043</td>\n",
       "      <td>73.538223</td>\n",
       "      <td>39545073</td>\n",
       "    </tr>\n",
       "    <tr>\n",
       "      <th>2021-01-05</th>\n",
       "      <td>85.211246</td>\n",
       "      <td>85.211246</td>\n",
       "      <td>83.727359</td>\n",
       "      <td>84.536751</td>\n",
       "      <td>10478882</td>\n",
       "      <td>73.196906</td>\n",
       "      <td>73.196906</td>\n",
       "      <td>71.566093</td>\n",
       "      <td>72.021202</td>\n",
       "      <td>26998014</td>\n",
       "    </tr>\n",
       "    <tr>\n",
       "      <th>2021-01-06</th>\n",
       "      <td>84.536768</td>\n",
       "      <td>88.853539</td>\n",
       "      <td>84.087104</td>\n",
       "      <td>88.201530</td>\n",
       "      <td>54265234</td>\n",
       "      <td>75.017335</td>\n",
       "      <td>75.320743</td>\n",
       "      <td>73.007264</td>\n",
       "      <td>73.538223</td>\n",
       "      <td>50306161</td>\n",
       "    </tr>\n",
       "    <tr>\n",
       "      <th>2021-01-07</th>\n",
       "      <td>89.033392</td>\n",
       "      <td>90.742110</td>\n",
       "      <td>87.909233</td>\n",
       "      <td>88.606209</td>\n",
       "      <td>40129922</td>\n",
       "      <td>74.334685</td>\n",
       "      <td>75.131131</td>\n",
       "      <td>73.652019</td>\n",
       "      <td>74.258835</td>\n",
       "      <td>25285200</td>\n",
       "    </tr>\n",
       "    <tr>\n",
       "      <th>...</th>\n",
       "      <td>...</td>\n",
       "      <td>...</td>\n",
       "      <td>...</td>\n",
       "      <td>...</td>\n",
       "      <td>...</td>\n",
       "      <td>...</td>\n",
       "      <td>...</td>\n",
       "      <td>...</td>\n",
       "      <td>...</td>\n",
       "      <td>...</td>\n",
       "    </tr>\n",
       "    <tr>\n",
       "      <th>2025-05-05</th>\n",
       "      <td>304.799988</td>\n",
       "      <td>310.700012</td>\n",
       "      <td>304.649994</td>\n",
       "      <td>308.200012</td>\n",
       "      <td>4342960</td>\n",
       "      <td>240.000000</td>\n",
       "      <td>241.149994</td>\n",
       "      <td>234.500000</td>\n",
       "      <td>239.199997</td>\n",
       "      <td>20086323</td>\n",
       "    </tr>\n",
       "    <tr>\n",
       "      <th>2025-05-06</th>\n",
       "      <td>307.600006</td>\n",
       "      <td>310.450012</td>\n",
       "      <td>305.549988</td>\n",
       "      <td>307.600006</td>\n",
       "      <td>9124804</td>\n",
       "      <td>241.130005</td>\n",
       "      <td>242.990005</td>\n",
       "      <td>236.000000</td>\n",
       "      <td>237.000000</td>\n",
       "      <td>11350559</td>\n",
       "    </tr>\n",
       "    <tr>\n",
       "      <th>2025-05-07</th>\n",
       "      <td>308.000000</td>\n",
       "      <td>313.149994</td>\n",
       "      <td>307.000000</td>\n",
       "      <td>311.100006</td>\n",
       "      <td>14679327</td>\n",
       "      <td>232.300003</td>\n",
       "      <td>240.089996</td>\n",
       "      <td>232.070007</td>\n",
       "      <td>238.669998</td>\n",
       "      <td>16689539</td>\n",
       "    </tr>\n",
       "    <tr>\n",
       "      <th>2025-05-08</th>\n",
       "      <td>313.399994</td>\n",
       "      <td>317.399994</td>\n",
       "      <td>304.000000</td>\n",
       "      <td>308.250000</td>\n",
       "      <td>19253478</td>\n",
       "      <td>237.660004</td>\n",
       "      <td>239.339996</td>\n",
       "      <td>231.399994</td>\n",
       "      <td>233.220001</td>\n",
       "      <td>15026122</td>\n",
       "    </tr>\n",
       "    <tr>\n",
       "      <th>2025-05-09</th>\n",
       "      <td>300.000000</td>\n",
       "      <td>303.049988</td>\n",
       "      <td>296.399994</td>\n",
       "      <td>299.299988</td>\n",
       "      <td>11981497</td>\n",
       "      <td>229.100006</td>\n",
       "      <td>235.300003</td>\n",
       "      <td>228.449997</td>\n",
       "      <td>234.960007</td>\n",
       "      <td>11184507</td>\n",
       "    </tr>\n",
       "  </tbody>\n",
       "</table>\n",
       "<p>1074 rows × 10 columns</p>\n",
       "</div>"
      ],
      "text/plain": [
       "Ticker     POWERGRID.NS                                                \\\n",
       "Price              Open        High         Low       Close    Volume   \n",
       "Date                                                                    \n",
       "2021-01-01    84.986411   85.391113   84.761579   85.211243   3074621   \n",
       "2021-01-04    85.436089   85.615959   84.536762   84.739113   7133203   \n",
       "2021-01-05    85.211246   85.211246   83.727359   84.536751  10478882   \n",
       "2021-01-06    84.536768   88.853539   84.087104   88.201530  54265234   \n",
       "2021-01-07    89.033392   90.742110   87.909233   88.606209  40129922   \n",
       "...                 ...         ...         ...         ...       ...   \n",
       "2025-05-05   304.799988  310.700012  304.649994  308.200012   4342960   \n",
       "2025-05-06   307.600006  310.450012  305.549988  307.600006   9124804   \n",
       "2025-05-07   308.000000  313.149994  307.000000  311.100006  14679327   \n",
       "2025-05-08   313.399994  317.399994  304.000000  308.250000  19253478   \n",
       "2025-05-09   300.000000  303.049988  296.399994  299.299988  11981497   \n",
       "\n",
       "Ticker         ONGC.NS                                                \n",
       "Price             Open        High         Low       Close    Volume  \n",
       "Date                                                                  \n",
       "2021-01-01   71.110981   71.641941   70.542093   70.693794  15130377  \n",
       "2021-01-04   71.338529   73.803709   71.073043   73.538223  39545073  \n",
       "2021-01-05   73.196906   73.196906   71.566093   72.021202  26998014  \n",
       "2021-01-06   75.017335   75.320743   73.007264   73.538223  50306161  \n",
       "2021-01-07   74.334685   75.131131   73.652019   74.258835  25285200  \n",
       "...                ...         ...         ...         ...       ...  \n",
       "2025-05-05  240.000000  241.149994  234.500000  239.199997  20086323  \n",
       "2025-05-06  241.130005  242.990005  236.000000  237.000000  11350559  \n",
       "2025-05-07  232.300003  240.089996  232.070007  238.669998  16689539  \n",
       "2025-05-08  237.660004  239.339996  231.399994  233.220001  15026122  \n",
       "2025-05-09  229.100006  235.300003  228.449997  234.960007  11184507  \n",
       "\n",
       "[1074 rows x 10 columns]"
      ]
     },
     "execution_count": 101,
     "metadata": {},
     "output_type": "execute_result"
    }
   ],
   "source": [
    "df"
   ]
  },
  {
   "cell_type": "code",
   "execution_count": 102,
   "id": "7ff8cfc0-e4bb-4484-9dba-3249634078b8",
   "metadata": {},
   "outputs": [
    {
     "name": "stdout",
     "output_type": "stream",
     "text": [
      "50.0\n"
     ]
    }
   ],
   "source": [
    "temp_data = [10,20,30,40,50,60,70,80,90]\n",
    "print(sum(temp_data[2:7])/5)"
   ]
  },
  {
   "cell_type": "code",
   "execution_count": 103,
   "id": "e316c540-3885-4627-b1b4-a60fd21237a9",
   "metadata": {},
   "outputs": [
    {
     "data": {
      "text/html": [
       "<div>\n",
       "<style scoped>\n",
       "    .dataframe tbody tr th:only-of-type {\n",
       "        vertical-align: middle;\n",
       "    }\n",
       "\n",
       "    .dataframe tbody tr th {\n",
       "        vertical-align: top;\n",
       "    }\n",
       "\n",
       "    .dataframe thead th {\n",
       "        text-align: right;\n",
       "    }\n",
       "</style>\n",
       "<table border=\"1\" class=\"dataframe\">\n",
       "  <thead>\n",
       "    <tr style=\"text-align: right;\">\n",
       "      <th></th>\n",
       "      <th>0</th>\n",
       "    </tr>\n",
       "  </thead>\n",
       "  <tbody>\n",
       "    <tr>\n",
       "      <th>0</th>\n",
       "      <td>NaN</td>\n",
       "    </tr>\n",
       "    <tr>\n",
       "      <th>1</th>\n",
       "      <td>NaN</td>\n",
       "    </tr>\n",
       "    <tr>\n",
       "      <th>2</th>\n",
       "      <td>NaN</td>\n",
       "    </tr>\n",
       "    <tr>\n",
       "      <th>3</th>\n",
       "      <td>NaN</td>\n",
       "    </tr>\n",
       "    <tr>\n",
       "      <th>4</th>\n",
       "      <td>30.0</td>\n",
       "    </tr>\n",
       "    <tr>\n",
       "      <th>5</th>\n",
       "      <td>40.0</td>\n",
       "    </tr>\n",
       "    <tr>\n",
       "      <th>6</th>\n",
       "      <td>50.0</td>\n",
       "    </tr>\n",
       "    <tr>\n",
       "      <th>7</th>\n",
       "      <td>60.0</td>\n",
       "    </tr>\n",
       "    <tr>\n",
       "      <th>8</th>\n",
       "      <td>70.0</td>\n",
       "    </tr>\n",
       "  </tbody>\n",
       "</table>\n",
       "</div>"
      ],
      "text/plain": [
       "      0\n",
       "0   NaN\n",
       "1   NaN\n",
       "2   NaN\n",
       "3   NaN\n",
       "4  30.0\n",
       "5  40.0\n",
       "6  50.0\n",
       "7  60.0\n",
       "8  70.0"
      ]
     },
     "execution_count": 103,
     "metadata": {},
     "output_type": "execute_result"
    }
   ],
   "source": [
    "df = pd.DataFrame(temp_data)\n",
    "df.rolling(5).mean()"
   ]
  },
  {
   "cell_type": "code",
   "execution_count": 104,
   "id": "44b93749-4526-4898-a6d7-eab39b71d2b1",
   "metadata": {},
   "outputs": [
    {
     "data": {
      "text/html": [
       "<div>\n",
       "<style scoped>\n",
       "    .dataframe tbody tr th:only-of-type {\n",
       "        vertical-align: middle;\n",
       "    }\n",
       "\n",
       "    .dataframe tbody tr th {\n",
       "        vertical-align: top;\n",
       "    }\n",
       "\n",
       "    .dataframe thead th {\n",
       "        text-align: right;\n",
       "    }\n",
       "</style>\n",
       "<table border=\"1\" class=\"dataframe\">\n",
       "  <thead>\n",
       "    <tr style=\"text-align: right;\">\n",
       "      <th></th>\n",
       "      <th>0</th>\n",
       "    </tr>\n",
       "  </thead>\n",
       "  <tbody>\n",
       "    <tr>\n",
       "      <th>0</th>\n",
       "      <td>10</td>\n",
       "    </tr>\n",
       "    <tr>\n",
       "      <th>1</th>\n",
       "      <td>20</td>\n",
       "    </tr>\n",
       "    <tr>\n",
       "      <th>2</th>\n",
       "      <td>30</td>\n",
       "    </tr>\n",
       "    <tr>\n",
       "      <th>3</th>\n",
       "      <td>40</td>\n",
       "    </tr>\n",
       "    <tr>\n",
       "      <th>4</th>\n",
       "      <td>50</td>\n",
       "    </tr>\n",
       "    <tr>\n",
       "      <th>5</th>\n",
       "      <td>60</td>\n",
       "    </tr>\n",
       "    <tr>\n",
       "      <th>6</th>\n",
       "      <td>70</td>\n",
       "    </tr>\n",
       "    <tr>\n",
       "      <th>7</th>\n",
       "      <td>80</td>\n",
       "    </tr>\n",
       "    <tr>\n",
       "      <th>8</th>\n",
       "      <td>90</td>\n",
       "    </tr>\n",
       "  </tbody>\n",
       "</table>\n",
       "</div>"
      ],
      "text/plain": [
       "    0\n",
       "0  10\n",
       "1  20\n",
       "2  30\n",
       "3  40\n",
       "4  50\n",
       "5  60\n",
       "6  70\n",
       "7  80\n",
       "8  90"
      ]
     },
     "execution_count": 104,
     "metadata": {},
     "output_type": "execute_result"
    }
   ],
   "source": [
    "df"
   ]
  },
  {
   "cell_type": "markdown",
   "id": "UMkTEOfBlzte",
   "metadata": {
    "id": "UMkTEOfBlzte"
   },
   "source": [
    "# Plotting moving averages of 100 day\n",
    "\n",
    "---\n",
    "\n"
   ]
  },
  {
   "cell_type": "code",
   "execution_count": 105,
   "id": "114d2e0c",
   "metadata": {
    "colab": {
     "base_uri": "https://localhost:8080/"
    },
    "id": "114d2e0c",
    "outputId": "aad49169-4922-4f48-bd62-84ec26fa3768"
   },
   "outputs": [
    {
     "name": "stderr",
     "output_type": "stream",
     "text": [
      "[*********************100%***********************]  1 of 1 completed"
     ]
    },
    {
     "name": "stdout",
     "output_type": "stream",
     "text": [
      "Ticker      POWERGRID.NS\n",
      "Date                    \n",
      "2024-12-23    324.990060\n",
      "2024-12-24    324.690146\n",
      "2024-12-26    324.267542\n",
      "2024-12-27    323.863584\n",
      "2024-12-30    323.590652\n",
      "Ticker      POWERGRID.NS\n",
      "Date                    \n",
      "2024-12-23    324.990060\n",
      "2024-12-24    324.690146\n",
      "2024-12-26    324.267542\n",
      "2024-12-27    323.863584\n",
      "2024-12-30    323.590652\n"
     ]
    },
    {
     "name": "stderr",
     "output_type": "stream",
     "text": [
      "\n"
     ]
    }
   ],
   "source": [
    "import pandas as pd\n",
    "import yfinance as yf\n",
    "\n",
    "# Download data\n",
    "df = yf.download('POWERGRID.NS', start=\"2021-01-01\", end=\"2024-12-31\")\n",
    "\n",
    "# Compute 100-day moving average\n",
    "ma100_powergrid = df['Close'].rolling(100).mean()\n",
    "ma100_ongc = df['Close'].rolling(100).mean()\n",
    "# Display\n",
    "print(ma100_powergrid.tail())\n",
    "print(ma100_ongc.tail())\n"
   ]
  },
  {
   "cell_type": "code",
   "execution_count": 109,
   "id": "e2f6b740",
   "metadata": {
    "colab": {
     "base_uri": "https://localhost:8080/",
     "height": 563
    },
    "id": "e2f6b740",
    "outputId": "136dd8a6-23d1-4fef-d676-8db5fed9e4b5"
   },
   "outputs": [
    {
     "data": {
      "text/plain": [
       "Text(0.5, 1.0, 'Graph Of Moving Averages Of 100 Days')"
      ]
     },
     "execution_count": 109,
     "metadata": {},
     "output_type": "execute_result"
    },
    {
     "data": {
      "image/png": "[encoded data removed]",
      "text/plain": [
       "<Figure size 1200x600 with 1 Axes>"
      ]
     },
     "metadata": {},
     "output_type": "display_data"
    }
   ],
   "source": [
    "plt.figure(figsize = (12,6))\n",
    "plt.plot(df.Close)\n",
    "plt.plot(ma100_powergrid, 'r')\n",
    "plt.plot(ma100_ongc, 'r')\n",
    "plt.grid(True)\n",
    "plt.title('Graph Of Moving Averages Of 100 Days')"
   ]
  },
  {
   "cell_type": "markdown",
   "id": "LQKvGsXwmN65",
   "metadata": {
    "id": "LQKvGsXwmN65"
   },
   "source": [
    "# Defining 200 days moving averages and plotting comparision graph with 100 days moving averages\n",
    "\n",
    "---\n",
    "\n"
   ]
  },
  {
   "cell_type": "code",
   "execution_count": 110,
   "id": "46c89811",
   "metadata": {
    "colab": {
     "base_uri": "https://localhost:8080/"
    },
    "id": "46c89811",
    "outputId": "a7a974f0-937e-4265-b375-929053f46272"
   },
   "outputs": [
    {
     "data": {
      "text/html": [
       "<div>\n",
       "<style scoped>\n",
       "    .dataframe tbody tr th:only-of-type {\n",
       "        vertical-align: middle;\n",
       "    }\n",
       "\n",
       "    .dataframe tbody tr th {\n",
       "        vertical-align: top;\n",
       "    }\n",
       "\n",
       "    .dataframe thead th {\n",
       "        text-align: right;\n",
       "    }\n",
       "</style>\n",
       "<table border=\"1\" class=\"dataframe\">\n",
       "  <thead>\n",
       "    <tr style=\"text-align: right;\">\n",
       "      <th>Ticker</th>\n",
       "      <th>POWERGRID.NS</th>\n",
       "    </tr>\n",
       "    <tr>\n",
       "      <th>Date</th>\n",
       "      <th></th>\n",
       "    </tr>\n",
       "  </thead>\n",
       "  <tbody>\n",
       "    <tr>\n",
       "      <th>2021-01-01</th>\n",
       "      <td>NaN</td>\n",
       "    </tr>\n",
       "    <tr>\n",
       "      <th>2021-01-04</th>\n",
       "      <td>NaN</td>\n",
       "    </tr>\n",
       "    <tr>\n",
       "      <th>2021-01-05</th>\n",
       "      <td>NaN</td>\n",
       "    </tr>\n",
       "    <tr>\n",
       "      <th>2021-01-06</th>\n",
       "      <td>NaN</td>\n",
       "    </tr>\n",
       "    <tr>\n",
       "      <th>2021-01-07</th>\n",
       "      <td>NaN</td>\n",
       "    </tr>\n",
       "    <tr>\n",
       "      <th>...</th>\n",
       "      <td>...</td>\n",
       "    </tr>\n",
       "    <tr>\n",
       "      <th>2024-12-23</th>\n",
       "      <td>310.866974</td>\n",
       "    </tr>\n",
       "    <tr>\n",
       "      <th>2024-12-24</th>\n",
       "      <td>311.032795</td>\n",
       "    </tr>\n",
       "    <tr>\n",
       "      <th>2024-12-26</th>\n",
       "      <td>311.176168</td>\n",
       "    </tr>\n",
       "    <tr>\n",
       "      <th>2024-12-27</th>\n",
       "      <td>311.281510</td>\n",
       "    </tr>\n",
       "    <tr>\n",
       "      <th>2024-12-30</th>\n",
       "      <td>311.376018</td>\n",
       "    </tr>\n",
       "  </tbody>\n",
       "</table>\n",
       "<p>986 rows × 1 columns</p>\n",
       "</div>"
      ],
      "text/plain": [
       "Ticker      POWERGRID.NS\n",
       "Date                    \n",
       "2021-01-01           NaN\n",
       "2021-01-04           NaN\n",
       "2021-01-05           NaN\n",
       "2021-01-06           NaN\n",
       "2021-01-07           NaN\n",
       "...                  ...\n",
       "2024-12-23    310.866974\n",
       "2024-12-24    311.032795\n",
       "2024-12-26    311.176168\n",
       "2024-12-27    311.281510\n",
       "2024-12-30    311.376018\n",
       "\n",
       "[986 rows x 1 columns]"
      ]
     },
     "execution_count": 110,
     "metadata": {},
     "output_type": "execute_result"
    }
   ],
   "source": [
    "ma200_powergrid = df['Close'].rolling(200).mean()\n",
    "ma200_ongc = df['Close'].rolling(200).mean()\n",
    "ma200_powergrid\n",
    "ma200_ongc"
   ]
  },
  {
   "cell_type": "code",
   "execution_count": 111,
   "id": "d7c0ce2e",
   "metadata": {
    "colab": {
     "base_uri": "https://localhost:8080/",
     "height": 563
    },
    "id": "d7c0ce2e",
    "outputId": "853bd4ca-af7d-4c81-9d9d-92ec6eddbef2"
   },
   "outputs": [
    {
     "data": {
      "image/png": "[encoded data removed]",
      "text/plain": [
       "<Figure size 1200x600 with 1 Axes>"
      ]
     },
     "metadata": {},
     "output_type": "display_data"
    }
   ],
   "source": [
    "plt.figure(figsize = (12,6))\n",
    "plt.plot(df.Close)\n",
    "plt.plot(ma100_powergrid, 'r')\n",
    "plt.plot(ma200_powergrid, 'g')\n",
    "plt.grid(True)\n",
    "plt.title('Comparision Of 100 Days And 200 Days Moving Averages')\n",
    "plt.show()"
   ]
  },
  {
   "cell_type": "code",
   "execution_count": 39,
   "id": "ae5eb226-ceac-45cf-94f7-7b8ce4cff9ee",
   "metadata": {},
   "outputs": [],
   "source": [
    "ema100 = df.Close.ewm(span = 100 ,adjust = False).mean()"
   ]
  },
  {
   "cell_type": "code",
   "execution_count": 40,
   "id": "1be67364-977a-47bd-9e85-1256ae6ec156",
   "metadata": {},
   "outputs": [],
   "source": [
    "ema200 = df['Close'].ewm(span = 200 ,adjust = False).mean()"
   ]
  },
  {
   "cell_type": "code",
   "execution_count": 41,
   "id": "1ebc1f66-138e-4428-9747-2e751130ac2d",
   "metadata": {},
   "outputs": [
    {
     "data": {
      "text/html": [
       "<div>\n",
       "<style scoped>\n",
       "    .dataframe tbody tr th:only-of-type {\n",
       "        vertical-align: middle;\n",
       "    }\n",
       "\n",
       "    .dataframe tbody tr th {\n",
       "        vertical-align: top;\n",
       "    }\n",
       "\n",
       "    .dataframe thead tr th {\n",
       "        text-align: left;\n",
       "    }\n",
       "\n",
       "    .dataframe thead tr:last-of-type th {\n",
       "        text-align: right;\n",
       "    }\n",
       "</style>\n",
       "<table border=\"1\" class=\"dataframe\">\n",
       "  <thead>\n",
       "    <tr>\n",
       "      <th>Price</th>\n",
       "      <th>Close</th>\n",
       "      <th>High</th>\n",
       "      <th>Low</th>\n",
       "      <th>Open</th>\n",
       "      <th>Volume</th>\n",
       "    </tr>\n",
       "    <tr>\n",
       "      <th>Ticker</th>\n",
       "      <th>POWERGRID.NS</th>\n",
       "      <th>POWERGRID.NS</th>\n",
       "      <th>POWERGRID.NS</th>\n",
       "      <th>POWERGRID.NS</th>\n",
       "      <th>POWERGRID.NS</th>\n",
       "    </tr>\n",
       "    <tr>\n",
       "      <th>Date</th>\n",
       "      <th></th>\n",
       "      <th></th>\n",
       "      <th></th>\n",
       "      <th></th>\n",
       "      <th></th>\n",
       "    </tr>\n",
       "  </thead>\n",
       "  <tbody>\n",
       "    <tr>\n",
       "      <th>2010-01-04</th>\n",
       "      <td>NaN</td>\n",
       "      <td>NaN</td>\n",
       "      <td>NaN</td>\n",
       "      <td>NaN</td>\n",
       "      <td>NaN</td>\n",
       "    </tr>\n",
       "    <tr>\n",
       "      <th>2010-01-05</th>\n",
       "      <td>0.003114</td>\n",
       "      <td>1.104754e-02</td>\n",
       "      <td>1.952794e-02</td>\n",
       "      <td>0.025409</td>\n",
       "      <td>0.004898</td>\n",
       "    </tr>\n",
       "    <tr>\n",
       "      <th>2010-01-06</th>\n",
       "      <td>0.007095</td>\n",
       "      <td>-4.870743e-07</td>\n",
       "      <td>6.681023e-03</td>\n",
       "      <td>0.005309</td>\n",
       "      <td>0.268638</td>\n",
       "    </tr>\n",
       "    <tr>\n",
       "      <th>2010-01-07</th>\n",
       "      <td>0.008807</td>\n",
       "      <td>7.430249e-03</td>\n",
       "      <td>-2.654723e-03</td>\n",
       "      <td>0.002641</td>\n",
       "      <td>-0.182850</td>\n",
       "    </tr>\n",
       "    <tr>\n",
       "      <th>2010-01-08</th>\n",
       "      <td>0.002619</td>\n",
       "      <td>4.771951e-03</td>\n",
       "      <td>1.197843e-02</td>\n",
       "      <td>0.010535</td>\n",
       "      <td>-0.159904</td>\n",
       "    </tr>\n",
       "    <tr>\n",
       "      <th>...</th>\n",
       "      <td>...</td>\n",
       "      <td>...</td>\n",
       "      <td>...</td>\n",
       "      <td>...</td>\n",
       "      <td>...</td>\n",
       "    </tr>\n",
       "    <tr>\n",
       "      <th>2024-12-23</th>\n",
       "      <td>-0.001583</td>\n",
       "      <td>-2.242024e-02</td>\n",
       "      <td>-6.537086e-03</td>\n",
       "      <td>-0.010271</td>\n",
       "      <td>-0.571746</td>\n",
       "    </tr>\n",
       "    <tr>\n",
       "      <th>2024-12-24</th>\n",
       "      <td>-0.016492</td>\n",
       "      <td>-5.183740e-03</td>\n",
       "      <td>-8.987252e-03</td>\n",
       "      <td>-0.012264</td>\n",
       "      <td>-0.192271</td>\n",
       "    </tr>\n",
       "    <tr>\n",
       "      <th>2024-12-26</th>\n",
       "      <td>0.000645</td>\n",
       "      <td>-1.121110e-02</td>\n",
       "      <td>-2.481895e-08</td>\n",
       "      <td>-0.012735</td>\n",
       "      <td>-0.218986</td>\n",
       "    </tr>\n",
       "    <tr>\n",
       "      <th>2024-12-27</th>\n",
       "      <td>-0.002900</td>\n",
       "      <td>-2.555143e-03</td>\n",
       "      <td>1.619131e-04</td>\n",
       "      <td>0.002096</td>\n",
       "      <td>0.054725</td>\n",
       "    </tr>\n",
       "    <tr>\n",
       "      <th>2024-12-30</th>\n",
       "      <td>-0.005979</td>\n",
       "      <td>-9.605517e-04</td>\n",
       "      <td>-8.095831e-03</td>\n",
       "      <td>-0.005632</td>\n",
       "      <td>2.136641</td>\n",
       "    </tr>\n",
       "  </tbody>\n",
       "</table>\n",
       "<p>3699 rows × 5 columns</p>\n",
       "</div>"
      ],
      "text/plain": [
       "Price             Close          High           Low         Open       Volume\n",
       "Ticker     POWERGRID.NS  POWERGRID.NS  POWERGRID.NS POWERGRID.NS POWERGRID.NS\n",
       "Date                                                                         \n",
       "2010-01-04          NaN           NaN           NaN          NaN          NaN\n",
       "2010-01-05     0.003114  1.104754e-02  1.952794e-02     0.025409     0.004898\n",
       "2010-01-06     0.007095 -4.870743e-07  6.681023e-03     0.005309     0.268638\n",
       "2010-01-07     0.008807  7.430249e-03 -2.654723e-03     0.002641    -0.182850\n",
       "2010-01-08     0.002619  4.771951e-03  1.197843e-02     0.010535    -0.159904\n",
       "...                 ...           ...           ...          ...          ...\n",
       "2024-12-23    -0.001583 -2.242024e-02 -6.537086e-03    -0.010271    -0.571746\n",
       "2024-12-24    -0.016492 -5.183740e-03 -8.987252e-03    -0.012264    -0.192271\n",
       "2024-12-26     0.000645 -1.121110e-02 -2.481895e-08    -0.012735    -0.218986\n",
       "2024-12-27    -0.002900 -2.555143e-03  1.619131e-04     0.002096     0.054725\n",
       "2024-12-30    -0.005979 -9.605517e-04 -8.095831e-03    -0.005632     2.136641\n",
       "\n",
       "[3699 rows x 5 columns]"
      ]
     },
     "execution_count": 41,
     "metadata": {},
     "output_type": "execute_result"
    }
   ],
   "source": [
    "df.pct_change()"
   ]
  },
  {
   "cell_type": "code",
   "execution_count": 42,
   "id": "45a099a7",
   "metadata": {
    "colab": {
     "base_uri": "https://localhost:8080/"
    },
    "id": "45a099a7",
    "outputId": "c3685930-176a-4c2d-b391-69866c4637c5"
   },
   "outputs": [],
   "source": [
    "ema100 = df.Close.ewm(span = 100 ,adjust = False).mean()"
   ]
  },
  {
   "cell_type": "code",
   "execution_count": 43,
   "id": "aff21fbd-df63-411e-8bfe-562e2f123054",
   "metadata": {},
   "outputs": [],
   "source": [
    "ema200 = df['Close'].ewm(span = 100 ,adjust = False).mean()"
   ]
  },
  {
   "cell_type": "code",
   "execution_count": 44,
   "id": "02e7b9ce-fa30-415c-a0ca-01010dc7413b",
   "metadata": {},
   "outputs": [
    {
     "data": {
      "image/png": "[encoded data removed]",
      "text/plain": [
       "<Figure size 1200x600 with 1 Axes>"
      ]
     },
     "metadata": {},
     "output_type": "display_data"
    }
   ],
   "source": [
    "data = 'POWERGRID.NS'\n",
    "\n",
    "plt.figure(figsize=(12, 6))\n",
    "plt.plot(df['Close'], label=f'{data} Close Price', linewidth=1)\n",
    "plt.plot(ema100, label=f'{data} EMA 100', linewidth=1)\n",
    "plt.plot(ema200, label=f'{data} EMA 200', linewidth=1)\n",
    "plt.grid(True)\n",
    "plt.title(f'Comparison of 100-Day and 200-Day Moving Averages for {data}')\n",
    "plt.legend()\n",
    "plt.show()\n"
   ]
  },
  {
   "cell_type": "markdown",
   "id": "bCw5fsrlmfpm",
   "metadata": {
    "id": "bCw5fsrlmfpm"
   },
   "source": [
    "# Spliting the dataset into training (70%) and testing (30%) set"
   ]
  },
  {
   "cell_type": "code",
   "execution_count": 45,
   "id": "9610c5fc",
   "metadata": {
    "colab": {
     "base_uri": "https://localhost:8080/"
    },
    "id": "9610c5fc",
    "outputId": "56ee8fcd-ce88-4705-f511-b030a00712c0"
   },
   "outputs": [],
   "source": [
    "# Splitting data into training and testing\n",
    "#lstm over rnn\n",
    "train = pd.DataFrame(df['Close'][0:int(len(df)*0.70)])\n",
    "test = pd.DataFrame(df['Close'][int(len(df)*0.70): int(len(df))])\n"
   ]
  },
  {
   "cell_type": "code",
   "execution_count": 46,
   "id": "b1fcb414-1710-4c5a-8764-fcde32478751",
   "metadata": {},
   "outputs": [
    {
     "data": {
      "text/plain": [
       "(2589, 1)"
      ]
     },
     "execution_count": 46,
     "metadata": {},
     "output_type": "execute_result"
    }
   ],
   "source": [
    "train.shape"
   ]
  },
  {
   "cell_type": "code",
   "execution_count": 47,
   "id": "f610726d-1520-4361-b272-f36ad084ede7",
   "metadata": {},
   "outputs": [
    {
     "data": {
      "text/plain": [
       "(1110, 1)"
      ]
     },
     "execution_count": 47,
     "metadata": {},
     "output_type": "execute_result"
    }
   ],
   "source": [
    "test.shape"
   ]
  },
  {
   "cell_type": "code",
   "execution_count": 48,
   "id": "2cb33dc0",
   "metadata": {
    "colab": {
     "base_uri": "https://localhost:8080/",
     "height": 206
    },
    "id": "2cb33dc0",
    "outputId": "bccf505c-0272-48e4-8b35-138abd6723dd"
   },
   "outputs": [
    {
     "data": {
      "text/html": [
       "<div>\n",
       "<style scoped>\n",
       "    .dataframe tbody tr th:only-of-type {\n",
       "        vertical-align: middle;\n",
       "    }\n",
       "\n",
       "    .dataframe tbody tr th {\n",
       "        vertical-align: top;\n",
       "    }\n",
       "\n",
       "    .dataframe thead th {\n",
       "        text-align: right;\n",
       "    }\n",
       "</style>\n",
       "<table border=\"1\" class=\"dataframe\">\n",
       "  <thead>\n",
       "    <tr style=\"text-align: right;\">\n",
       "      <th>Ticker</th>\n",
       "      <th>POWERGRID.NS</th>\n",
       "    </tr>\n",
       "    <tr>\n",
       "      <th>Date</th>\n",
       "      <th></th>\n",
       "    </tr>\n",
       "  </thead>\n",
       "  <tbody>\n",
       "    <tr>\n",
       "      <th>2010-01-04</th>\n",
       "      <td>37.102531</td>\n",
       "    </tr>\n",
       "    <tr>\n",
       "      <th>2010-01-05</th>\n",
       "      <td>37.218075</td>\n",
       "    </tr>\n",
       "    <tr>\n",
       "      <th>2010-01-06</th>\n",
       "      <td>37.482132</td>\n",
       "    </tr>\n",
       "    <tr>\n",
       "      <th>2010-01-07</th>\n",
       "      <td>37.812229</td>\n",
       "    </tr>\n",
       "    <tr>\n",
       "      <th>2010-01-08</th>\n",
       "      <td>37.911251</td>\n",
       "    </tr>\n",
       "  </tbody>\n",
       "</table>\n",
       "</div>"
      ],
      "text/plain": [
       "Ticker      POWERGRID.NS\n",
       "Date                    \n",
       "2010-01-04     37.102531\n",
       "2010-01-05     37.218075\n",
       "2010-01-06     37.482132\n",
       "2010-01-07     37.812229\n",
       "2010-01-08     37.911251"
      ]
     },
     "execution_count": 48,
     "metadata": {},
     "output_type": "execute_result"
    }
   ],
   "source": [
    "train.head()"
   ]
  },
  {
   "cell_type": "code",
   "execution_count": 49,
   "id": "91f5ef8b",
   "metadata": {
    "colab": {
     "base_uri": "https://localhost:8080/",
     "height": 206
    },
    "id": "91f5ef8b",
    "outputId": "8e92506b-b4ea-4eec-c643-0f6e2d34bb90"
   },
   "outputs": [
    {
     "data": {
      "text/html": [
       "<div>\n",
       "<style scoped>\n",
       "    .dataframe tbody tr th:only-of-type {\n",
       "        vertical-align: middle;\n",
       "    }\n",
       "\n",
       "    .dataframe tbody tr th {\n",
       "        vertical-align: top;\n",
       "    }\n",
       "\n",
       "    .dataframe thead th {\n",
       "        text-align: right;\n",
       "    }\n",
       "</style>\n",
       "<table border=\"1\" class=\"dataframe\">\n",
       "  <thead>\n",
       "    <tr style=\"text-align: right;\">\n",
       "      <th>Ticker</th>\n",
       "      <th>POWERGRID.NS</th>\n",
       "    </tr>\n",
       "    <tr>\n",
       "      <th>Date</th>\n",
       "      <th></th>\n",
       "    </tr>\n",
       "  </thead>\n",
       "  <tbody>\n",
       "    <tr>\n",
       "      <th>2020-07-08</th>\n",
       "      <td>72.362175</td>\n",
       "    </tr>\n",
       "    <tr>\n",
       "      <th>2020-07-09</th>\n",
       "      <td>73.129494</td>\n",
       "    </tr>\n",
       "    <tr>\n",
       "      <th>2020-07-10</th>\n",
       "      <td>73.577095</td>\n",
       "    </tr>\n",
       "    <tr>\n",
       "      <th>2020-07-13</th>\n",
       "      <td>72.085091</td>\n",
       "    </tr>\n",
       "    <tr>\n",
       "      <th>2020-07-14</th>\n",
       "      <td>69.633942</td>\n",
       "    </tr>\n",
       "  </tbody>\n",
       "</table>\n",
       "</div>"
      ],
      "text/plain": [
       "Ticker      POWERGRID.NS\n",
       "Date                    \n",
       "2020-07-08     72.362175\n",
       "2020-07-09     73.129494\n",
       "2020-07-10     73.577095\n",
       "2020-07-13     72.085091\n",
       "2020-07-14     69.633942"
      ]
     },
     "execution_count": 49,
     "metadata": {},
     "output_type": "execute_result"
    }
   ],
   "source": [
    "test.head()"
   ]
  },
  {
   "cell_type": "markdown",
   "id": "-a818gdwm_WV",
   "metadata": {
    "id": "-a818gdwm_WV"
   },
   "source": [
    "# Using MinMax scaler for normalization of the dataset\n",
    "\n",
    "---\n",
    "\n"
   ]
  },
  {
   "cell_type": "code",
   "execution_count": 50,
   "id": "01f04df7",
   "metadata": {
    "id": "01f04df7"
   },
   "outputs": [],
   "source": [
    "from sklearn.preprocessing import MinMaxScaler\n",
    "scaler = MinMaxScaler(feature_range=(0,1))"
   ]
  },
  {
   "cell_type": "code",
   "execution_count": 51,
   "id": "30f7205e-0fc0-4d19-9d08-7e352e5579c9",
   "metadata": {},
   "outputs": [
    {
     "data": {
      "text/plain": [
       "array([[0.1025771 ],\n",
       "       [0.10465746],\n",
       "       [0.10941183],\n",
       "       ...,\n",
       "       [0.79768032],\n",
       "       [0.80075063],\n",
       "       [0.76314127]])"
      ]
     },
     "execution_count": 51,
     "metadata": {},
     "output_type": "execute_result"
    }
   ],
   "source": [
    "data_training_array = scaler.fit_transform(train)\n",
    "data_training_array"
   ]
  },
  {
   "cell_type": "code",
   "execution_count": 52,
   "id": "23781063-1b00-44b2-b327-83c9982c0b17",
   "metadata": {},
   "outputs": [
    {
     "data": {
      "text/plain": [
       "(2589, 1)"
      ]
     },
     "execution_count": 52,
     "metadata": {},
     "output_type": "execute_result"
    }
   ],
   "source": [
    "data_training_array.shape"
   ]
  },
  {
   "cell_type": "code",
   "execution_count": 53,
   "id": "8ec65449-f393-46a6-ba73-588cd3539238",
   "metadata": {},
   "outputs": [],
   "source": [
    "import numpy as np\n",
    "x_train = []\n",
    "y_train = []\n",
    "\n",
    "for i in range(100, data_training_array.shape[0]):\n",
    "    x_train.append(data_training_array[i-100:i])\n",
    "    y_train.append(data_training_array[i, 0])\n",
    "\n",
    "x_train,y_train = np.array(x_train),np.array(y_train)"
   ]
  },
  {
   "cell_type": "code",
   "execution_count": 54,
   "id": "1ed2babd-5567-4512-aaca-00929a364351",
   "metadata": {},
   "outputs": [
    {
     "data": {
      "text/plain": [
       "(2489, 100, 1)"
      ]
     },
     "execution_count": 54,
     "metadata": {},
     "output_type": "execute_result"
    }
   ],
   "source": [
    "x_train.shape"
   ]
  },
  {
   "cell_type": "code",
   "execution_count": 55,
   "id": "472be66e-558e-4424-a8e7-9607e7ba4d6c",
   "metadata": {},
   "outputs": [],
   "source": [
    "#module buildainf"
   ]
  },
  {
   "cell_type": "code",
   "execution_count": 56,
   "id": "53oSB51dB6Tw",
   "metadata": {
    "id": "53oSB51dB6Tw"
   },
   "outputs": [],
   "source": [
    "train_close = train.iloc[:, 4:5].values\n",
    "test_close = test.iloc[:, 4:5].values"
   ]
  },
  {
   "cell_type": "code",
   "execution_count": null,
   "id": "d97e7ff8",
   "metadata": {
    "colab": {
     "base_uri": "https://localhost:8080/"
    },
    "id": "d97e7ff8",
    "outputId": "eae5e982-ee9f-4be5-af17-b78fc6e6dd45"
   },
   "outputs": [
    {
     "name": "stderr",
     "output_type": "stream",
     "text": [
      "[*********************100%***********************]  1 of 1 completed"
     ]
    },
    {
     "name": "stdout",
     "output_type": "stream",
     "text": [
      "MultiIndex([( 'Close', 'POWERGRID.NS'),\n",
      "            (  'High', 'POWERGRID.NS'),\n",
      "            (   'Low', 'POWERGRID.NS'),\n",
      "            (  'Open', 'POWERGRID.NS'),\n",
      "            ('Volume', 'POWERGRID.NS')],\n",
      "           names=['Price', 'Ticker'])\n"
     ]
    },
    {
     "name": "stderr",
     "output_type": "stream",
     "text": [
      "\n"
     ]
    }
   ],
   "source": [
    "import yfinance as yf\n",
    "from sklearn.preprocessing import MinMaxScaler\n",
    "\n",
    "data = yf.download('POWERGRID.NS', start='2021-01-01')\n",
    "print(data.columns)  # Check available columns\n",
    "\n",
    "# Select the column you need (adjust name as needed)\n",
    "train_close = data[['Close']]  # or 'Adj Close'\n",
    "\n",
    "scaler = MinMaxScaler()\n",
    "data_training_array = scaler.fit_transform(train_close)\n"
   ]
  },
  {
   "cell_type": "code",
   "execution_count": 58,
   "id": "10227978",
   "metadata": {
    "id": "10227978"
   },
   "outputs": [],
   "source": [
    "x_train = []\n",
    "y_train = [] \n",
    "\n",
    "for i in range(100, data_training_array.shape[0]):\n",
    "    x_train.append(data_training_array[i-100: i])\n",
    "    y_train.append(data_training_array[i, 0])\n",
    "\n",
    "x_train, y_train = np.array(x_train), np.array(y_train) "
   ]
  },
  {
   "cell_type": "code",
   "execution_count": 59,
   "id": "0ea6446e",
   "metadata": {
    "colab": {
     "base_uri": "https://localhost:8080/"
    },
    "id": "0ea6446e",
    "outputId": "16c4a903-7a88-43c7-e30b-89149f057b75"
   },
   "outputs": [
    {
     "data": {
      "text/plain": [
       "(3693, 100, 1)"
      ]
     },
     "execution_count": 59,
     "metadata": {},
     "output_type": "execute_result"
    }
   ],
   "source": [
    "x_train.shape"
   ]
  },
  {
   "cell_type": "markdown",
   "id": "dsMIlQ8DnVOJ",
   "metadata": {
    "id": "dsMIlQ8DnVOJ"
   },
   "source": [
    "# ML Model (LSTM)\n",
    "\n",
    "---\n",
    "\n"
   ]
  },
  {
   "cell_type": "code",
   "execution_count": 60,
   "id": "e60ed317",
   "metadata": {
    "id": "e60ed317"
   },
   "outputs": [],
   "source": [
    "from tensorflow.keras.layers import Dense, Dropout, LSTM\n",
    "from tensorflow.keras.models import Sequential"
   ]
  },
  {
   "cell_type": "code",
   "execution_count": 61,
   "id": "17082610",
   "metadata": {
    "colab": {
     "base_uri": "https://localhost:8080/"
    },
    "id": "17082610",
    "outputId": "e3a8a228-487d-40be-a6ce-7e999581b9d1"
   },
   "outputs": [
    {
     "name": "stderr",
     "output_type": "stream",
     "text": [
      "c:\\Users\\admin\\Downloads\\stock(1)\\.venv\\Lib\\site-packages\\keras\\src\\layers\\rnn\\rnn.py:200: UserWarning:\n",
      "\n",
      "Do not pass an `input_shape`/`input_dim` argument to a layer. When using Sequential models, prefer using an `Input(shape)` object as the first layer in the model instead.\n",
      "\n"
     ]
    }
   ],
   "source": [
    "model = Sequential()\n",
    "model.add(LSTM(units = 50, activation = 'relu', return_sequences=True\n",
    "              ,input_shape = (x_train.shape[1], 1)))\n",
    "model.add(Dropout(0.2))\n",
    "\n",
    "\n",
    "model.add(LSTM(units = 60, activation = 'relu', return_sequences=True))\n",
    "model.add(Dropout(0.3))\n",
    "\n",
    "\n",
    "model.add(LSTM(units = 80, activation = 'relu', return_sequences=True))\n",
    "model.add(Dropout(0.4))\n",
    "\n",
    "\n",
    "model.add(LSTM(units = 120, activation = 'relu'))\n",
    "model.add(Dropout(0.5))\n",
    "\n",
    "model.add(Dense(units = 1))"
   ]
  },
  {
   "cell_type": "code",
   "execution_count": 62,
   "id": "5f5a1db3",
   "metadata": {
    "colab": {
     "base_uri": "https://localhost:8080/"
    },
    "id": "5f5a1db3",
    "outputId": "23244ace-c6af-46ed-e068-77c1cd563dd0"
   },
   "outputs": [
    {
     "data": {
      "text/html": [
       "<pre style=\"white-space:pre;overflow-x:auto;line-height:normal;font-family:Menlo,'DejaVu Sans Mono',consolas,'Courier New',monospace\"><span style=\"font-weight: bold\">Model: \"sequential\"</span>\n",
       "</pre>\n"
      ],
      "text/plain": [
       "\u001b[1mModel: \"sequential\"\u001b[0m\n"
      ]
     },
     "metadata": {},
     "output_type": "display_data"
    },
    {
     "data": {
      "text/html": [
       "<pre style=\"white-space:pre;overflow-x:auto;line-height:normal;font-family:Menlo,'DejaVu Sans Mono',consolas,'Courier New',monospace\">┏━━━━━━━━━━━━━━━━━━━━━━━━━━━━━━━━━┳━━━━━━━━━━━━━━━━━━━━━━━━┳━━━━━━━━━━━━━━━┓\n",
       "┃<span style=\"font-weight: bold\"> Layer (type)                    </span>┃<span style=\"font-weight: bold\"> Output Shape           </span>┃<span style=\"font-weight: bold\">       Param # </span>┃\n",
       "┡━━━━━━━━━━━━━━━━━━━━━━━━━━━━━━━━━╇━━━━━━━━━━━━━━━━━━━━━━━━╇━━━━━━━━━━━━━━━┩\n",
       "│ lstm (<span style=\"color: #0087ff; text-decoration-color: #0087ff\">LSTM</span>)                     │ (<span style=\"color: #00d7ff; text-decoration-color: #00d7ff\">None</span>, <span style=\"color: #00af00; text-decoration-color: #00af00\">100</span>, <span style=\"color: #00af00; text-decoration-color: #00af00\">50</span>)        │        <span style=\"color: #00af00; text-decoration-color: #00af00\">10,400</span> │\n",
       "├─────────────────────────────────┼────────────────────────┼───────────────┤\n",
       "│ dropout (<span style=\"color: #0087ff; text-decoration-color: #0087ff\">Dropout</span>)               │ (<span style=\"color: #00d7ff; text-decoration-color: #00d7ff\">None</span>, <span style=\"color: #00af00; text-decoration-color: #00af00\">100</span>, <span style=\"color: #00af00; text-decoration-color: #00af00\">50</span>)        │             <span style=\"color: #00af00; text-decoration-color: #00af00\">0</span> │\n",
       "├─────────────────────────────────┼────────────────────────┼───────────────┤\n",
       "│ lstm_1 (<span style=\"color: #0087ff; text-decoration-color: #0087ff\">LSTM</span>)                   │ (<span style=\"color: #00d7ff; text-decoration-color: #00d7ff\">None</span>, <span style=\"color: #00af00; text-decoration-color: #00af00\">100</span>, <span style=\"color: #00af00; text-decoration-color: #00af00\">60</span>)        │        <span style=\"color: #00af00; text-decoration-color: #00af00\">26,640</span> │\n",
       "├─────────────────────────────────┼────────────────────────┼───────────────┤\n",
       "│ dropout_1 (<span style=\"color: #0087ff; text-decoration-color: #0087ff\">Dropout</span>)             │ (<span style=\"color: #00d7ff; text-decoration-color: #00d7ff\">None</span>, <span style=\"color: #00af00; text-decoration-color: #00af00\">100</span>, <span style=\"color: #00af00; text-decoration-color: #00af00\">60</span>)        │             <span style=\"color: #00af00; text-decoration-color: #00af00\">0</span> │\n",
       "├─────────────────────────────────┼────────────────────────┼───────────────┤\n",
       "│ lstm_2 (<span style=\"color: #0087ff; text-decoration-color: #0087ff\">LSTM</span>)                   │ (<span style=\"color: #00d7ff; text-decoration-color: #00d7ff\">None</span>, <span style=\"color: #00af00; text-decoration-color: #00af00\">100</span>, <span style=\"color: #00af00; text-decoration-color: #00af00\">80</span>)        │        <span style=\"color: #00af00; text-decoration-color: #00af00\">45,120</span> │\n",
       "├─────────────────────────────────┼────────────────────────┼───────────────┤\n",
       "│ dropout_2 (<span style=\"color: #0087ff; text-decoration-color: #0087ff\">Dropout</span>)             │ (<span style=\"color: #00d7ff; text-decoration-color: #00d7ff\">None</span>, <span style=\"color: #00af00; text-decoration-color: #00af00\">100</span>, <span style=\"color: #00af00; text-decoration-color: #00af00\">80</span>)        │             <span style=\"color: #00af00; text-decoration-color: #00af00\">0</span> │\n",
       "├─────────────────────────────────┼────────────────────────┼───────────────┤\n",
       "│ lstm_3 (<span style=\"color: #0087ff; text-decoration-color: #0087ff\">LSTM</span>)                   │ (<span style=\"color: #00d7ff; text-decoration-color: #00d7ff\">None</span>, <span style=\"color: #00af00; text-decoration-color: #00af00\">120</span>)            │        <span style=\"color: #00af00; text-decoration-color: #00af00\">96,480</span> │\n",
       "├─────────────────────────────────┼────────────────────────┼───────────────┤\n",
       "│ dropout_3 (<span style=\"color: #0087ff; text-decoration-color: #0087ff\">Dropout</span>)             │ (<span style=\"color: #00d7ff; text-decoration-color: #00d7ff\">None</span>, <span style=\"color: #00af00; text-decoration-color: #00af00\">120</span>)            │             <span style=\"color: #00af00; text-decoration-color: #00af00\">0</span> │\n",
       "├─────────────────────────────────┼────────────────────────┼───────────────┤\n",
       "│ dense (<span style=\"color: #0087ff; text-decoration-color: #0087ff\">Dense</span>)                   │ (<span style=\"color: #00d7ff; text-decoration-color: #00d7ff\">None</span>, <span style=\"color: #00af00; text-decoration-color: #00af00\">1</span>)              │           <span style=\"color: #00af00; text-decoration-color: #00af00\">121</span> │\n",
       "└─────────────────────────────────┴────────────────────────┴───────────────┘\n",
       "</pre>\n"
      ],
      "text/plain": [
       "┏━━━━━━━━━━━━━━━━━━━━━━━━━━━━━━━━━┳━━━━━━━━━━━━━━━━━━━━━━━━┳━━━━━━━━━━━━━━━┓\n",
       "┃\u001b[1m \u001b[0m\u001b[1mLayer (type)                   \u001b[0m\u001b[1m \u001b[0m┃\u001b[1m \u001b[0m\u001b[1mOutput Shape          \u001b[0m\u001b[1m \u001b[0m┃\u001b[1m \u001b[0m\u001b[1m      Param #\u001b[0m\u001b[1m \u001b[0m┃\n",
       "┡━━━━━━━━━━━━━━━━━━━━━━━━━━━━━━━━━╇━━━━━━━━━━━━━━━━━━━━━━━━╇━━━━━━━━━━━━━━━┩\n",
       "│ lstm (\u001b[38;5;33mLSTM\u001b[0m)                     │ (\u001b[38;5;45mNone\u001b[0m, \u001b[38;5;34m100\u001b[0m, \u001b[38;5;34m50\u001b[0m)        │        \u001b[38;5;34m10,400\u001b[0m │\n",
       "├─────────────────────────────────┼────────────────────────┼───────────────┤\n",
       "│ dropout (\u001b[38;5;33mDropout\u001b[0m)               │ (\u001b[38;5;45mNone\u001b[0m, \u001b[38;5;34m100\u001b[0m, \u001b[38;5;34m50\u001b[0m)        │             \u001b[38;5;34m0\u001b[0m │\n",
       "├─────────────────────────────────┼────────────────────────┼───────────────┤\n",
       "│ lstm_1 (\u001b[38;5;33mLSTM\u001b[0m)                   │ (\u001b[38;5;45mNone\u001b[0m, \u001b[38;5;34m100\u001b[0m, \u001b[38;5;34m60\u001b[0m)        │        \u001b[38;5;34m26,640\u001b[0m │\n",
       "├─────────────────────────────────┼────────────────────────┼───────────────┤\n",
       "│ dropout_1 (\u001b[38;5;33mDropout\u001b[0m)             │ (\u001b[38;5;45mNone\u001b[0m, \u001b[38;5;34m100\u001b[0m, \u001b[38;5;34m60\u001b[0m)        │             \u001b[38;5;34m0\u001b[0m │\n",
       "├─────────────────────────────────┼────────────────────────┼───────────────┤\n",
       "│ lstm_2 (\u001b[38;5;33mLSTM\u001b[0m)                   │ (\u001b[38;5;45mNone\u001b[0m, \u001b[38;5;34m100\u001b[0m, \u001b[38;5;34m80\u001b[0m)        │        \u001b[38;5;34m45,120\u001b[0m │\n",
       "├─────────────────────────────────┼────────────────────────┼───────────────┤\n",
       "│ dropout_2 (\u001b[38;5;33mDropout\u001b[0m)             │ (\u001b[38;5;45mNone\u001b[0m, \u001b[38;5;34m100\u001b[0m, \u001b[38;5;34m80\u001b[0m)        │             \u001b[38;5;34m0\u001b[0m │\n",
       "├─────────────────────────────────┼────────────────────────┼───────────────┤\n",
       "│ lstm_3 (\u001b[38;5;33mLSTM\u001b[0m)                   │ (\u001b[38;5;45mNone\u001b[0m, \u001b[38;5;34m120\u001b[0m)            │        \u001b[38;5;34m96,480\u001b[0m │\n",
       "├─────────────────────────────────┼────────────────────────┼───────────────┤\n",
       "│ dropout_3 (\u001b[38;5;33mDropout\u001b[0m)             │ (\u001b[38;5;45mNone\u001b[0m, \u001b[38;5;34m120\u001b[0m)            │             \u001b[38;5;34m0\u001b[0m │\n",
       "├─────────────────────────────────┼────────────────────────┼───────────────┤\n",
       "│ dense (\u001b[38;5;33mDense\u001b[0m)                   │ (\u001b[38;5;45mNone\u001b[0m, \u001b[38;5;34m1\u001b[0m)              │           \u001b[38;5;34m121\u001b[0m │\n",
       "└─────────────────────────────────┴────────────────────────┴───────────────┘\n"
      ]
     },
     "metadata": {},
     "output_type": "display_data"
    },
    {
     "data": {
      "text/html": [
       "<pre style=\"white-space:pre;overflow-x:auto;line-height:normal;font-family:Menlo,'DejaVu Sans Mono',consolas,'Courier New',monospace\"><span style=\"font-weight: bold\"> Total params: </span><span style=\"color: #00af00; text-decoration-color: #00af00\">178,761</span> (698.29 KB)\n",
       "</pre>\n"
      ],
      "text/plain": [
       "\u001b[1m Total params: \u001b[0m\u001b[38;5;34m178,761\u001b[0m (698.29 KB)\n"
      ]
     },
     "metadata": {},
     "output_type": "display_data"
    },
    {
     "data": {
      "text/html": [
       "<pre style=\"white-space:pre;overflow-x:auto;line-height:normal;font-family:Menlo,'DejaVu Sans Mono',consolas,'Courier New',monospace\"><span style=\"font-weight: bold\"> Trainable params: </span><span style=\"color: #00af00; text-decoration-color: #00af00\">178,761</span> (698.29 KB)\n",
       "</pre>\n"
      ],
      "text/plain": [
       "\u001b[1m Trainable params: \u001b[0m\u001b[38;5;34m178,761\u001b[0m (698.29 KB)\n"
      ]
     },
     "metadata": {},
     "output_type": "display_data"
    },
    {
     "data": {
      "text/html": [
       "<pre style=\"white-space:pre;overflow-x:auto;line-height:normal;font-family:Menlo,'DejaVu Sans Mono',consolas,'Courier New',monospace\"><span style=\"font-weight: bold\"> Non-trainable params: </span><span style=\"color: #00af00; text-decoration-color: #00af00\">0</span> (0.00 B)\n",
       "</pre>\n"
      ],
      "text/plain": [
       "\u001b[1m Non-trainable params: \u001b[0m\u001b[38;5;34m0\u001b[0m (0.00 B)\n"
      ]
     },
     "metadata": {},
     "output_type": "display_data"
    }
   ],
   "source": [
    "model.summary()"
   ]
  },
  {
   "cell_type": "markdown",
   "id": "KgEnUfCnn_1r",
   "metadata": {
    "id": "KgEnUfCnn_1r"
   },
   "source": [
    "# Training the model\n",
    "\n",
    "---\n",
    "\n"
   ]
  },
  {
   "cell_type": "code",
   "execution_count": 130,
   "id": "1d0c9b64",
   "metadata": {
    "colab": {
     "base_uri": "https://localhost:8080/"
    },
    "id": "1d0c9b64",
    "outputId": "8014670b-4fcf-4fe9-d60a-786b45c8b88c"
   },
   "outputs": [
    {
     "name": "stdout",
     "output_type": "stream",
     "text": [
      "Epoch 1/50\n",
      "\u001b[1m116/116\u001b[0m \u001b[32m━━━━━━━━━━━━━━━━━━━━\u001b[0m\u001b[37m\u001b[0m \u001b[1m41s\u001b[0m 199ms/step - loss: 0.0319 - mean_absolute_error: 0.1054\n",
      "Epoch 2/50\n",
      "\u001b[1m116/116\u001b[0m \u001b[32m━━━━━━━━━━━━━━━━━━━━\u001b[0m\u001b[37m\u001b[0m \u001b[1m24s\u001b[0m 211ms/step - loss: 0.0053 - mean_absolute_error: 0.0420\n",
      "Epoch 3/50\n",
      "\u001b[1m116/116\u001b[0m \u001b[32m━━━━━━━━━━━━━━━━━━━━\u001b[0m\u001b[37m\u001b[0m \u001b[1m21s\u001b[0m 179ms/step - loss: 0.0029 - mean_absolute_error: 0.0312\n",
      "Epoch 4/50\n",
      "\u001b[1m116/116\u001b[0m \u001b[32m━━━━━━━━━━━━━━━━━━━━\u001b[0m\u001b[37m\u001b[0m \u001b[1m45s\u001b[0m 215ms/step - loss: 0.0026 - mean_absolute_error: 0.0298\n",
      "Epoch 5/50\n",
      "\u001b[1m116/116\u001b[0m \u001b[32m━━━━━━━━━━━━━━━━━━━━\u001b[0m\u001b[37m\u001b[0m \u001b[1m38s\u001b[0m 194ms/step - loss: 0.0026 - mean_absolute_error: 0.0306\n",
      "Epoch 6/50\n",
      "\u001b[1m116/116\u001b[0m \u001b[32m━━━━━━━━━━━━━━━━━━━━\u001b[0m\u001b[37m\u001b[0m \u001b[1m24s\u001b[0m 208ms/step - loss: 0.0034 - mean_absolute_error: 0.0340\n",
      "Epoch 7/50\n",
      "\u001b[1m116/116\u001b[0m \u001b[32m━━━━━━━━━━━━━━━━━━━━\u001b[0m\u001b[37m\u001b[0m \u001b[1m40s\u001b[0m 199ms/step - loss: 0.0030 - mean_absolute_error: 0.0332\n",
      "Epoch 8/50\n",
      "\u001b[1m116/116\u001b[0m \u001b[32m━━━━━━━━━━━━━━━━━━━━\u001b[0m\u001b[37m\u001b[0m \u001b[1m24s\u001b[0m 206ms/step - loss: 0.0020 - mean_absolute_error: 0.0280\n",
      "Epoch 9/50\n",
      "\u001b[1m116/116\u001b[0m \u001b[32m━━━━━━━━━━━━━━━━━━━━\u001b[0m\u001b[37m\u001b[0m \u001b[1m20s\u001b[0m 174ms/step - loss: 0.0020 - mean_absolute_error: 0.0265\n",
      "Epoch 10/50\n",
      "\u001b[1m116/116\u001b[0m \u001b[32m━━━━━━━━━━━━━━━━━━━━\u001b[0m\u001b[37m\u001b[0m \u001b[1m23s\u001b[0m 194ms/step - loss: 0.0022 - mean_absolute_error: 0.0296\n",
      "Epoch 11/50\n",
      "\u001b[1m116/116\u001b[0m \u001b[32m━━━━━━━━━━━━━━━━━━━━\u001b[0m\u001b[37m\u001b[0m \u001b[1m23s\u001b[0m 201ms/step - loss: 0.0021 - mean_absolute_error: 0.0273\n",
      "Epoch 12/50\n",
      "\u001b[1m116/116\u001b[0m \u001b[32m━━━━━━━━━━━━━━━━━━━━\u001b[0m\u001b[37m\u001b[0m \u001b[1m48s\u001b[0m 255ms/step - loss: 0.0022 - mean_absolute_error: 0.0292\n",
      "Epoch 13/50\n",
      "\u001b[1m116/116\u001b[0m \u001b[32m━━━━━━━━━━━━━━━━━━━━\u001b[0m\u001b[37m\u001b[0m \u001b[1m35s\u001b[0m 203ms/step - loss: 0.0022 - mean_absolute_error: 0.0279\n",
      "Epoch 14/50\n",
      "\u001b[1m116/116\u001b[0m \u001b[32m━━━━━━━━━━━━━━━━━━━━\u001b[0m\u001b[37m\u001b[0m \u001b[1m39s\u001b[0m 187ms/step - loss: 0.0026 - mean_absolute_error: 0.0299\n",
      "Epoch 15/50\n",
      "\u001b[1m116/116\u001b[0m \u001b[32m━━━━━━━━━━━━━━━━━━━━\u001b[0m\u001b[37m\u001b[0m \u001b[1m41s\u001b[0m 191ms/step - loss: 0.0020 - mean_absolute_error: 0.0258\n",
      "Epoch 16/50\n",
      "\u001b[1m116/116\u001b[0m \u001b[32m━━━━━━━━━━━━━━━━━━━━\u001b[0m\u001b[37m\u001b[0m \u001b[1m24s\u001b[0m 204ms/step - loss: 0.0020 - mean_absolute_error: 0.0281\n",
      "Epoch 17/50\n",
      "\u001b[1m116/116\u001b[0m \u001b[32m━━━━━━━━━━━━━━━━━━━━\u001b[0m\u001b[37m\u001b[0m \u001b[1m24s\u001b[0m 207ms/step - loss: 0.0021 - mean_absolute_error: 0.0273\n",
      "Epoch 18/50\n",
      "\u001b[1m116/116\u001b[0m \u001b[32m━━━━━━━━━━━━━━━━━━━━\u001b[0m\u001b[37m\u001b[0m \u001b[1m49s\u001b[0m 274ms/step - loss: 0.0019 - mean_absolute_error: 0.0265\n",
      "Epoch 19/50\n",
      "\u001b[1m116/116\u001b[0m \u001b[32m━━━━━━━━━━━━━━━━━━━━\u001b[0m\u001b[37m\u001b[0m \u001b[1m34s\u001b[0m 211ms/step - loss: 0.0017 - mean_absolute_error: 0.0251\n",
      "Epoch 20/50\n",
      "\u001b[1m116/116\u001b[0m \u001b[32m━━━━━━━━━━━━━━━━━━━━\u001b[0m\u001b[37m\u001b[0m \u001b[1m24s\u001b[0m 206ms/step - loss: 0.0018 - mean_absolute_error: 0.0260\n",
      "Epoch 21/50\n",
      "\u001b[1m116/116\u001b[0m \u001b[32m━━━━━━━━━━━━━━━━━━━━\u001b[0m\u001b[37m\u001b[0m \u001b[1m28s\u001b[0m 238ms/step - loss: 0.0019 - mean_absolute_error: 0.0273\n",
      "Epoch 22/50\n",
      "\u001b[1m116/116\u001b[0m \u001b[32m━━━━━━━━━━━━━━━━━━━━\u001b[0m\u001b[37m\u001b[0m \u001b[1m44s\u001b[0m 259ms/step - loss: 0.0022 - mean_absolute_error: 0.0287\n",
      "Epoch 23/50\n",
      "\u001b[1m116/116\u001b[0m \u001b[32m━━━━━━━━━━━━━━━━━━━━\u001b[0m\u001b[37m\u001b[0m \u001b[1m37s\u001b[0m 227ms/step - loss: 0.0020 - mean_absolute_error: 0.0273\n",
      "Epoch 24/50\n",
      "\u001b[1m116/116\u001b[0m \u001b[32m━━━━━━━━━━━━━━━━━━━━\u001b[0m\u001b[37m\u001b[0m \u001b[1m50s\u001b[0m 307ms/step - loss: 0.0021 - mean_absolute_error: 0.0283\n",
      "Epoch 25/50\n",
      "\u001b[1m116/116\u001b[0m \u001b[32m━━━━━━━━━━━━━━━━━━━━\u001b[0m\u001b[37m\u001b[0m \u001b[1m35s\u001b[0m 258ms/step - loss: 0.0019 - mean_absolute_error: 0.0276\n",
      "Epoch 26/50\n",
      "\u001b[1m116/116\u001b[0m \u001b[32m━━━━━━━━━━━━━━━━━━━━\u001b[0m\u001b[37m\u001b[0m \u001b[1m41s\u001b[0m 253ms/step - loss: 0.0019 - mean_absolute_error: 0.0261\n",
      "Epoch 27/50\n",
      "\u001b[1m116/116\u001b[0m \u001b[32m━━━━━━━━━━━━━━━━━━━━\u001b[0m\u001b[37m\u001b[0m \u001b[1m30s\u001b[0m 262ms/step - loss: 0.0018 - mean_absolute_error: 0.0262\n",
      "Epoch 28/50\n",
      "\u001b[1m116/116\u001b[0m \u001b[32m━━━━━━━━━━━━━━━━━━━━\u001b[0m\u001b[37m\u001b[0m \u001b[1m39s\u001b[0m 245ms/step - loss: 0.0015 - mean_absolute_error: 0.0242\n",
      "Epoch 29/50\n",
      "\u001b[1m116/116\u001b[0m \u001b[32m━━━━━━━━━━━━━━━━━━━━\u001b[0m\u001b[37m\u001b[0m \u001b[1m37s\u001b[0m 205ms/step - loss: 0.0018 - mean_absolute_error: 0.0264\n",
      "Epoch 30/50\n",
      "\u001b[1m116/116\u001b[0m \u001b[32m━━━━━━━━━━━━━━━━━━━━\u001b[0m\u001b[37m\u001b[0m \u001b[1m42s\u001b[0m 211ms/step - loss: 0.0019 - mean_absolute_error: 0.0267\n",
      "Epoch 31/50\n",
      "\u001b[1m116/116\u001b[0m \u001b[32m━━━━━━━━━━━━━━━━━━━━\u001b[0m\u001b[37m\u001b[0m \u001b[1m24s\u001b[0m 202ms/step - loss: 0.0019 - mean_absolute_error: 0.0261\n",
      "Epoch 32/50\n",
      "\u001b[1m116/116\u001b[0m \u001b[32m━━━━━━━━━━━━━━━━━━━━\u001b[0m\u001b[37m\u001b[0m \u001b[1m25s\u001b[0m 215ms/step - loss: 0.0020 - mean_absolute_error: 0.0271\n",
      "Epoch 33/50\n",
      "\u001b[1m116/116\u001b[0m \u001b[32m━━━━━━━━━━━━━━━━━━━━\u001b[0m\u001b[37m\u001b[0m \u001b[1m30s\u001b[0m 255ms/step - loss: 0.0018 - mean_absolute_error: 0.0261\n",
      "Epoch 34/50\n",
      "\u001b[1m116/116\u001b[0m \u001b[32m━━━━━━━━━━━━━━━━━━━━\u001b[0m\u001b[37m\u001b[0m \u001b[1m43s\u001b[0m 365ms/step - loss: 0.0020 - mean_absolute_error: 0.0262\n",
      "Epoch 35/50\n",
      "\u001b[1m116/116\u001b[0m \u001b[32m━━━━━━━━━━━━━━━━━━━━\u001b[0m\u001b[37m\u001b[0m \u001b[1m41s\u001b[0m 354ms/step - loss: 0.0020 - mean_absolute_error: 0.0267\n",
      "Epoch 36/50\n",
      "\u001b[1m116/116\u001b[0m \u001b[32m━━━━━━━━━━━━━━━━━━━━\u001b[0m\u001b[37m\u001b[0m \u001b[1m30s\u001b[0m 262ms/step - loss: 0.0019 - mean_absolute_error: 0.0271\n",
      "Epoch 37/50\n",
      "\u001b[1m116/116\u001b[0m \u001b[32m━━━━━━━━━━━━━━━━━━━━\u001b[0m\u001b[37m\u001b[0m \u001b[1m40s\u001b[0m 250ms/step - loss: 0.0017 - mean_absolute_error: 0.0258\n",
      "Epoch 38/50\n",
      "\u001b[1m116/116\u001b[0m \u001b[32m━━━━━━━━━━━━━━━━━━━━\u001b[0m\u001b[37m\u001b[0m \u001b[1m39s\u001b[0m 235ms/step - loss: 0.0020 - mean_absolute_error: 0.0275\n",
      "Epoch 39/50\n",
      "\u001b[1m116/116\u001b[0m \u001b[32m━━━━━━━━━━━━━━━━━━━━\u001b[0m\u001b[37m\u001b[0m \u001b[1m30s\u001b[0m 255ms/step - loss: 0.0020 - mean_absolute_error: 0.0278\n",
      "Epoch 40/50\n",
      "\u001b[1m116/116\u001b[0m \u001b[32m━━━━━━━━━━━━━━━━━━━━\u001b[0m\u001b[37m\u001b[0m \u001b[1m25s\u001b[0m 213ms/step - loss: 0.0020 - mean_absolute_error: 0.0277\n",
      "Epoch 41/50\n",
      "\u001b[1m116/116\u001b[0m \u001b[32m━━━━━━━━━━━━━━━━━━━━\u001b[0m\u001b[37m\u001b[0m \u001b[1m42s\u001b[0m 219ms/step - loss: 0.0019 - mean_absolute_error: 0.0264\n",
      "Epoch 42/50\n",
      "\u001b[1m116/116\u001b[0m \u001b[32m━━━━━━━━━━━━━━━━━━━━\u001b[0m\u001b[37m\u001b[0m \u001b[1m42s\u001b[0m 224ms/step - loss: 0.0020 - mean_absolute_error: 0.0270\n",
      "Epoch 43/50\n",
      "\u001b[1m116/116\u001b[0m \u001b[32m━━━━━━━━━━━━━━━━━━━━\u001b[0m\u001b[37m\u001b[0m \u001b[1m39s\u001b[0m 206ms/step - loss: 0.0017 - mean_absolute_error: 0.0251\n",
      "Epoch 44/50\n",
      "\u001b[1m116/116\u001b[0m \u001b[32m━━━━━━━━━━━━━━━━━━━━\u001b[0m\u001b[37m\u001b[0m \u001b[1m33s\u001b[0m 284ms/step - loss: 0.0015 - mean_absolute_error: 0.0246\n",
      "Epoch 45/50\n",
      "\u001b[1m116/116\u001b[0m \u001b[32m━━━━━━━━━━━━━━━━━━━━\u001b[0m\u001b[37m\u001b[0m \u001b[1m41s\u001b[0m 284ms/step - loss: 0.0020 - mean_absolute_error: 0.0271\n",
      "Epoch 46/50\n",
      "\u001b[1m116/116\u001b[0m \u001b[32m━━━━━━━━━━━━━━━━━━━━\u001b[0m\u001b[37m\u001b[0m \u001b[1m37s\u001b[0m 248ms/step - loss: 0.0018 - mean_absolute_error: 0.0265\n",
      "Epoch 47/50\n",
      "\u001b[1m116/116\u001b[0m \u001b[32m━━━━━━━━━━━━━━━━━━━━\u001b[0m\u001b[37m\u001b[0m \u001b[1m36s\u001b[0m 310ms/step - loss: 0.0017 - mean_absolute_error: 0.0255\n",
      "Epoch 48/50\n",
      "\u001b[1m116/116\u001b[0m \u001b[32m━━━━━━━━━━━━━━━━━━━━\u001b[0m\u001b[37m\u001b[0m \u001b[1m40s\u001b[0m 302ms/step - loss: 0.0016 - mean_absolute_error: 0.0245\n",
      "Epoch 49/50\n",
      "\u001b[1m116/116\u001b[0m \u001b[32m━━━━━━━━━━━━━━━━━━━━\u001b[0m\u001b[37m\u001b[0m \u001b[1m33s\u001b[0m 230ms/step - loss: 0.0014 - mean_absolute_error: 0.0241\n",
      "Epoch 50/50\n",
      "\u001b[1m116/116\u001b[0m \u001b[32m━━━━━━━━━━━━━━━━━━━━\u001b[0m\u001b[37m\u001b[0m \u001b[1m46s\u001b[0m 272ms/step - loss: 0.0019 - mean_absolute_error: 0.0271\n"
     ]
    },
    {
     "data": {
      "text/plain": [
       "<keras.src.callbacks.history.History at 0x25231c98bc0>"
      ]
     },
     "execution_count": 130,
     "metadata": {},
     "output_type": "execute_result"
    }
   ],
   "source": [
    "import tensorflow as tf\n",
    "model.compile(optimizer = 'adam', loss = 'mean_squared_error', metrics=[tf.keras.metrics.MeanAbsoluteError()])\n",
    "model.fit(x_train, y_train,epochs = 50)"
   ]
  },
  {
   "cell_type": "code",
   "execution_count": 63,
   "id": "zG1W6DhzI-hP",
   "metadata": {
    "id": "zG1W6DhzI-hP"
   },
   "outputs": [
    {
     "name": "stderr",
     "output_type": "stream",
     "text": [
      "WARNING:absl:You are saving your model as an HDF5 file via `model.save()` or `keras.saving.save_model(model)`. This file format is considered legacy. We recommend using instead the native Keras format, e.g. `model.save('my_model.keras')` or `keras.saving.save_model(model, 'my_model.keras')`. \n"
     ]
    }
   ],
   "source": [
    "model.save('stock_dl_model.h5')\n"
   ]
  },
  {
   "cell_type": "code",
   "execution_count": null,
   "id": "khcKI1sSJSJB",
   "metadata": {
    "colab": {
     "base_uri": "https://localhost:8080/"
    },
    "id": "khcKI1sSJSJB",
    "outputId": "22c3f1bf-201a-4a60-ec6f-3be005f87ab1"
   },
   "outputs": [],
   "source": []
  },
  {
   "cell_type": "code",
   "execution_count": 88,
   "id": "6QyF-7KbKaGt",
   "metadata": {
    "id": "6QyF-7KbKaGt"
   },
   "outputs": [],
   "source": [
    "past_100_days = train.tail(100)"
   ]
  },
  {
   "cell_type": "code",
   "execution_count": 89,
   "id": "pKsjLCyGLuOz",
   "metadata": {
    "id": "pKsjLCyGLuOz"
   },
   "outputs": [],
   "source": [
    "#test_df = pd.DataFrame(test_close)"
   ]
  },
  {
   "cell_type": "markdown",
   "id": "d9ZKAzB8oKXJ",
   "metadata": {
    "id": "d9ZKAzB8oKXJ"
   },
   "source": [
    "**Defining the final dataset for testing by including last 100 coloums of the training dataset to get the prediction from the 1st column of the testing dataset.**\n",
    "\n",
    "---\n"
   ]
  },
  {
   "cell_type": "code",
   "execution_count": 93,
   "id": "UUapqTcVLOj-",
   "metadata": {
    "colab": {
     "base_uri": "https://localhost:8080/"
    },
    "id": "UUapqTcVLOj-",
    "outputId": "0b06f215-d627-419d-8e78-461a857ccf4d"
   },
   "outputs": [],
   "source": [
    "final_df = pd.concat([past_100_days, test], ignore_index=True)\n"
   ]
  },
  {
   "cell_type": "code",
   "execution_count": 95,
   "id": "L5gFYc1hMRjS",
   "metadata": {
    "colab": {
     "base_uri": "https://localhost:8080/",
     "height": 206
    },
    "id": "L5gFYc1hMRjS",
    "outputId": "200e81cd-e7d8-4d77-d727-6d5918b2e074"
   },
   "outputs": [
    {
     "data": {
      "text/html": [
       "<div>\n",
       "<style scoped>\n",
       "    .dataframe tbody tr th:only-of-type {\n",
       "        vertical-align: middle;\n",
       "    }\n",
       "\n",
       "    .dataframe tbody tr th {\n",
       "        vertical-align: top;\n",
       "    }\n",
       "\n",
       "    .dataframe thead th {\n",
       "        text-align: right;\n",
       "    }\n",
       "</style>\n",
       "<table border=\"1\" class=\"dataframe\">\n",
       "  <thead>\n",
       "    <tr style=\"text-align: right;\">\n",
       "      <th>Ticker</th>\n",
       "      <th>POWERGRID.NS</th>\n",
       "    </tr>\n",
       "  </thead>\n",
       "  <tbody>\n",
       "    <tr>\n",
       "      <th>0</th>\n",
       "      <td>78.283867</td>\n",
       "    </tr>\n",
       "    <tr>\n",
       "      <th>1</th>\n",
       "      <td>76.721474</td>\n",
       "    </tr>\n",
       "    <tr>\n",
       "      <th>2</th>\n",
       "      <td>77.913818</td>\n",
       "    </tr>\n",
       "    <tr>\n",
       "      <th>3</th>\n",
       "      <td>77.852142</td>\n",
       "    </tr>\n",
       "    <tr>\n",
       "      <th>4</th>\n",
       "      <td>78.345535</td>\n",
       "    </tr>\n",
       "  </tbody>\n",
       "</table>\n",
       "</div>"
      ],
      "text/plain": [
       "Ticker  POWERGRID.NS\n",
       "0          78.283867\n",
       "1          76.721474\n",
       "2          77.913818\n",
       "3          77.852142\n",
       "4          78.345535"
      ]
     },
     "execution_count": 95,
     "metadata": {},
     "output_type": "execute_result"
    }
   ],
   "source": [
    "final_df.head()"
   ]
  },
  {
   "cell_type": "code",
   "execution_count": 96,
   "id": "BU7BPmzvMZpZ",
   "metadata": {
    "colab": {
     "base_uri": "https://localhost:8080/"
    },
    "id": "BU7BPmzvMZpZ",
    "outputId": "385dad96-22ef-4fe8-8aea-0a5ce1a7f6a6"
   },
   "outputs": [
    {
     "data": {
      "text/plain": [
       "array([[0.05713145],\n",
       "       [0.05182918],\n",
       "       [0.05587562],\n",
       "       ...,\n",
       "       [0.83234889],\n",
       "       [0.82932991],\n",
       "       [0.82312417]])"
      ]
     },
     "execution_count": 96,
     "metadata": {},
     "output_type": "execute_result"
    }
   ],
   "source": [
    "input_data = scaler.fit_transform(final_df)\n",
    "input_data"
   ]
  },
  {
   "cell_type": "code",
   "execution_count": 97,
   "id": "2E6k84TtMpvD",
   "metadata": {
    "colab": {
     "base_uri": "https://localhost:8080/"
    },
    "id": "2E6k84TtMpvD",
    "outputId": "06c0a3bb-bb78-49f3-d233-4ef1922d7a30"
   },
   "outputs": [
    {
     "data": {
      "text/plain": [
       "(1210, 1)"
      ]
     },
     "execution_count": 97,
     "metadata": {},
     "output_type": "execute_result"
    }
   ],
   "source": [
    "input_data.shape"
   ]
  },
  {
   "cell_type": "code",
   "execution_count": 98,
   "id": "7c2833d9-5c89-43b2-aed7-63dd90a56b60",
   "metadata": {},
   "outputs": [],
   "source": [
    "input_data = scaler.fit_transform(final_df)"
   ]
  },
  {
   "cell_type": "markdown",
   "id": "hJzkNc_To9li",
   "metadata": {
    "id": "hJzkNc_To9li"
   },
   "source": [
    "# Testing the model\n",
    "\n",
    "---\n",
    "\n"
   ]
  },
  {
   "cell_type": "code",
   "execution_count": 99,
   "id": "d9xCof1CMwwh",
   "metadata": {
    "id": "d9xCof1CMwwh"
   },
   "outputs": [],
   "source": [
    "x_test = []\n",
    "y_test = []\n",
    "for i in range(100, input_data.shape[0]):\n",
    "   x_test.append(input_data[i-100: i])\n",
    "   y_test.append(input_data[i, 0])\n",
    "x_test, y_test = np.array(x_test), np.array(y_test)"
   ]
  },
  {
   "cell_type": "code",
   "execution_count": 100,
   "id": "6MGDYZvrNUYc",
   "metadata": {
    "colab": {
     "base_uri": "https://localhost:8080/"
    },
    "id": "6MGDYZvrNUYc",
    "outputId": "4c699113-12cb-4065-b162-29e1761b96a4"
   },
   "outputs": [
    {
     "data": {
      "text/plain": [
       "(1110, 100, 1)"
      ]
     },
     "execution_count": 100,
     "metadata": {},
     "output_type": "execute_result"
    }
   ],
   "source": [
    "x_test.shape"
   ]
  },
  {
   "cell_type": "code",
   "execution_count": null,
   "id": "2013a204-bc4d-4a81-a6ed-270f7f597beb",
   "metadata": {},
   "outputs": [],
   "source": []
  },
  {
   "cell_type": "markdown",
   "id": "PjvHSsrYpFBG",
   "metadata": {
    "id": "PjvHSsrYpFBG"
   },
   "source": [
    "# Making prediction and plotting the graph of predicted vs actual values\n",
    "\n",
    "---\n",
    "\n"
   ]
  },
  {
   "cell_type": "code",
   "execution_count": 101,
   "id": "GLMExu7NNdmA",
   "metadata": {
    "colab": {
     "base_uri": "https://localhost:8080/"
    },
    "id": "GLMExu7NNdmA",
    "outputId": "e415e6ce-3846-4044-e1a3-a1f7b17e10e0"
   },
   "outputs": [
    {
     "name": "stdout",
     "output_type": "stream",
     "text": [
      "\u001b[1m35/35\u001b[0m \u001b[32m━━━━━━━━━━━━━━━━━━━━\u001b[0m\u001b[37m\u001b[0m \u001b[1m3s\u001b[0m 80ms/step\n"
     ]
    }
   ],
   "source": [
    "# Making predictions\n",
    "\n",
    "y_pred = model.predict(x_test)"
   ]
  },
  {
   "cell_type": "code",
   "execution_count": 102,
   "id": "wAmVS__yNu-A",
   "metadata": {
    "colab": {
     "base_uri": "https://localhost:8080/"
    },
    "id": "wAmVS__yNu-A",
    "outputId": "a7d117ba-f92d-4be6-d813-47147ab5cd1c"
   },
   "outputs": [
    {
     "data": {
      "text/plain": [
       "(1110, 1)"
      ]
     },
     "execution_count": 102,
     "metadata": {},
     "output_type": "execute_result"
    }
   ],
   "source": [
    "y_pred.shape"
   ]
  },
  {
   "cell_type": "code",
   "execution_count": 103,
   "id": "HFhTH-1aNyqt",
   "metadata": {
    "colab": {
     "base_uri": "https://localhost:8080/"
    },
    "id": "HFhTH-1aNyqt",
    "outputId": "0e288060-20c6-46e6-bae7-93bb208f67ec"
   },
   "outputs": [
    {
     "data": {
      "text/plain": [
       "array([0.03703507, 0.03963912, 0.04115813, ..., 0.83234889, 0.82932991,\n",
       "       0.82312417])"
      ]
     },
     "execution_count": 103,
     "metadata": {},
     "output_type": "execute_result"
    }
   ],
   "source": [
    "y_test"
   ]
  },
  {
   "cell_type": "code",
   "execution_count": 104,
   "id": "WDIHSvbHN1vk",
   "metadata": {
    "colab": {
     "base_uri": "https://localhost:8080/"
    },
    "id": "WDIHSvbHN1vk",
    "outputId": "7f0459a8-b46e-4383-bd33-1af9f49a0211"
   },
   "outputs": [
    {
     "data": {
      "text/plain": [
       "array([[-0.0001036 ],\n",
       "       [-0.000106  ],\n",
       "       [-0.000108  ],\n",
       "       ...,\n",
       "       [-0.00314042],\n",
       "       [-0.00313683],\n",
       "       [-0.00313053]], dtype=float32)"
      ]
     },
     "execution_count": 104,
     "metadata": {},
     "output_type": "execute_result"
    }
   ],
   "source": [
    "y_pred"
   ]
  },
  {
   "cell_type": "code",
   "execution_count": 105,
   "id": "QMFgAgL5N6HX",
   "metadata": {
    "colab": {
     "base_uri": "https://localhost:8080/"
    },
    "id": "QMFgAgL5N6HX",
    "outputId": "ea7365cc-518f-4580-d114-1804855d66a4"
   },
   "outputs": [
    {
     "data": {
      "text/plain": [
       "array([0.00339369])"
      ]
     },
     "execution_count": 105,
     "metadata": {},
     "output_type": "execute_result"
    }
   ],
   "source": [
    "scaler.scale_"
   ]
  },
  {
   "cell_type": "code",
   "execution_count": 106,
   "id": "tPcp9BKLN-Y8",
   "metadata": {
    "id": "tPcp9BKLN-Y8"
   },
   "outputs": [],
   "source": [
    "scale_factor = 1/0.00041967\n",
    "y_pred = y_pred * scale_factor\n",
    "y_test = y_test * scale_factor"
   ]
  },
  {
   "cell_type": "code",
   "execution_count": 107,
   "id": "phumyMZUOPp_",
   "metadata": {
    "colab": {
     "base_uri": "https://localhost:8080/",
     "height": 542
    },
    "id": "phumyMZUOPp_",
    "outputId": "eba0f77b-fe47-431e-cbf8-49a103e127ab"
   },
   "outputs": [
    {
     "data": {
      "image/png": "[encoded data removed]",
      "text/plain": [
       "<Figure size 1200x600 with 1 Axes>"
      ]
     },
     "metadata": {},
     "output_type": "display_data"
    }
   ],
   "source": [
    "plt.figure(figsize = (12,6))\n",
    "plt.plot(y_test, 'b', label = \"Original Price\")\n",
    "plt.plot(y_pred, 'r', label = \"Predicted Price\")\n",
    "plt.xlabel('Time')\n",
    "plt.ylabel('Price')\n",
    "plt.legend()\n",
    "plt.grid(True)\n",
    "plt.show()"
   ]
  },
  {
   "cell_type": "markdown",
   "id": "m54ljCJrpShP",
   "metadata": {
    "id": "m54ljCJrpShP"
   },
   "source": [
    "# Model evaluation"
   ]
  },
  {
   "cell_type": "markdown",
   "id": "BdnuOyYQRKRP",
   "metadata": {
    "id": "BdnuOyYQRKRP"
   },
   "source": [
    "Calculation of mean absolute error"
   ]
  },
  {
   "cell_type": "code",
   "execution_count": 108,
   "id": "Yx6JWOKcX3Yo",
   "metadata": {
    "colab": {
     "base_uri": "https://localhost:8080/"
    },
    "id": "Yx6JWOKcX3Yo",
    "outputId": "74caad7d-81e9-4866-c771-3e6beccb39d8"
   },
   "outputs": [
    {
     "name": "stdout",
     "output_type": "stream",
     "text": [
      "Mean absolute error on test set: 100.30%\n"
     ]
    }
   ],
   "source": [
    "from sklearn.metrics import mean_absolute_error\n",
    "\n",
    "mae = mean_absolute_error(y_test, y_pred)\n",
    "mae_percentage = (mae / np.mean(y_test)) * 100\n",
    "print(\"Mean absolute error on test set: {:.2f}%\".format(mae_percentage))"
   ]
  },
  {
   "cell_type": "markdown",
   "id": "M8XnY8cuQIc2",
   "metadata": {
    "id": "M8XnY8cuQIc2"
   },
   "source": [
    "Calculation of R2 score"
   ]
  },
  {
   "cell_type": "code",
   "execution_count": 109,
   "id": "GAAyLdoMNTwZ",
   "metadata": {
    "colab": {
     "base_uri": "https://localhost:8080/"
    },
    "id": "GAAyLdoMNTwZ",
    "outputId": "58c4c588-24d4-49bf-83ac-5a615a631c2e"
   },
   "outputs": [
    {
     "name": "stdout",
     "output_type": "stream",
     "text": [
      "R2 score: -1.8814847706999038\n"
     ]
    }
   ],
   "source": [
    "from sklearn.metrics import r2_score\n",
    "\n",
    "# Actual values\n",
    "actual = y_test\n",
    "\n",
    "# Predicted values\n",
    "predicted = y_pred\n",
    "\n",
    "# Calculate the R2 score\n",
    "r2 = r2_score(actual, predicted)\n",
    "\n",
    "print(\"R2 score:\", r2)"
   ]
  },
  {
   "cell_type": "code",
   "execution_count": 110,
   "id": "vQGgW50tNtMf",
   "metadata": {
    "colab": {
     "base_uri": "https://localhost:8080/",
     "height": 472
    },
    "id": "vQGgW50tNtMf",
    "outputId": "94767ec4-b582-409b-ea5d-2d5659997e8c"
   },
   "outputs": [
    {
     "data": {
      "image/png": "[encoded data removed]",
      "text/plain": [
       "<Figure size 640x480 with 1 Axes>"
      ]
     },
     "metadata": {},
     "output_type": "display_data"
    }
   ],
   "source": [
    "# Plotting the R2 score\n",
    "fig, ax = plt.subplots()\n",
    "ax.barh(0, r2, color='skyblue')\n",
    "ax.set_xlim([-1, 1])\n",
    "ax.set_yticks([])\n",
    "ax.set_xlabel('R2 Score')\n",
    "ax.set_title('R2 Score')\n",
    "\n",
    "# Adding the R2 score value on the bar\n",
    "ax.text(r2, 0, f'{r2:.2f}', va='center', color='black')\n",
    "\n",
    "plt.show()"
   ]
  },
  {
   "cell_type": "code",
   "execution_count": 111,
   "id": "Q8RHQ80hPfi4",
   "metadata": {
    "colab": {
     "base_uri": "https://localhost:8080/",
     "height": 472
    },
    "id": "Q8RHQ80hPfi4",
    "outputId": "a1b81f5b-e56b-4f29-886c-e53f7e6f2bcb"
   },
   "outputs": [
    {
     "data": {
      "image/png": "[encoded data removed]",
      "text/plain": [
       "<Figure size 640x480 with 1 Axes>"
      ]
     },
     "metadata": {},
     "output_type": "display_data"
    }
   ],
   "source": [
    "plt.scatter(actual, predicted)\n",
    "plt.plot([min(actual), max(actual)], [min(predicted), max(predicted)], 'r--')\n",
    "plt.xlabel('Actual Values')\n",
    "plt.ylabel('Predicted Values')\n",
    "plt.title(f'R2 Score: {r2:.2f}')\n",
    "plt.show()"
   ]
  },
  {
   "cell_type": "code",
   "execution_count": null,
   "id": "67751f9b-542c-4c82-8573-f27eaa8e6fcd",
   "metadata": {},
   "outputs": [],
   "source": []
  },
  {
   "cell_type": "code",
   "execution_count": null,
   "id": "2d5118dc-16d8-418a-8a68-7ea6cf1f4f3e",
   "metadata": {},
   "outputs": [],
   "source": []
  },
  {
   "cell_type": "code",
   "execution_count": null,
   "id": "11d22bf7-e9e8-4ad5-9cd1-b34c851786eb",
   "metadata": {},
   "outputs": [],
   "source": []
  }
 ],
 "metadata": {
  "accelerator": "GPU",
  "colab": {
   "include_colab_link": true,
   "provenance": []
  },
  "gpuClass": "standard",
  "kernelspec": {
   "display_name": ".venv",
   "language": "python",
   "name": "python3"
  },
  "language_info": {
   "codemirror_mode": {
    "name": "ipython",
    "version": 3
   },
   "file_extension": ".py",
   "mimetype": "text/x-python",
   "name": "python",
   "nbconvert_exporter": "python",
   "pygments_lexer": "ipython3",
   "version": "3.12.10"
  }
 },
 "nbformat": 4,
 "nbformat_minor": 5
}
